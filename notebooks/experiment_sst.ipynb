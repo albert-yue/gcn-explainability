{
  "nbformat": 4,
  "nbformat_minor": 0,
  "metadata": {
    "colab": {
      "name": "6864_final-project_sst.ipynb",
      "provenance": [],
      "authorship_tag": "ABX9TyP93WC+zBtKlJ+qpKzxADfE",
      "include_colab_link": true
    },
    "kernelspec": {
      "name": "python3",
      "display_name": "Python 3"
    },
    "widgets": {
      "application/vnd.jupyter.widget-state+json": {
        "4b611457c0b3474ead0f5f9f421d1776": {
          "model_module": "@jupyter-widgets/controls",
          "model_name": "HBoxModel",
          "state": {
            "_view_name": "HBoxView",
            "_dom_classes": [],
            "_model_name": "HBoxModel",
            "_view_module": "@jupyter-widgets/controls",
            "_model_module_version": "1.5.0",
            "_view_count": null,
            "_view_module_version": "1.5.0",
            "box_style": "",
            "layout": "IPY_MODEL_db9cf370fefa4f329442fa736d17a960",
            "_model_module": "@jupyter-widgets/controls",
            "children": [
              "IPY_MODEL_0a30d005e08646fca19eb16b3315f45d",
              "IPY_MODEL_7525211b922f447483ec79a461f9fac7"
            ]
          }
        },
        "db9cf370fefa4f329442fa736d17a960": {
          "model_module": "@jupyter-widgets/base",
          "model_name": "LayoutModel",
          "state": {
            "_view_name": "LayoutView",
            "grid_template_rows": null,
            "right": null,
            "justify_content": null,
            "_view_module": "@jupyter-widgets/base",
            "overflow": null,
            "_model_module_version": "1.2.0",
            "_view_count": null,
            "flex_flow": null,
            "width": null,
            "min_width": null,
            "border": null,
            "align_items": null,
            "bottom": null,
            "_model_module": "@jupyter-widgets/base",
            "top": null,
            "grid_column": null,
            "overflow_y": null,
            "overflow_x": null,
            "grid_auto_flow": null,
            "grid_area": null,
            "grid_template_columns": null,
            "flex": null,
            "_model_name": "LayoutModel",
            "justify_items": null,
            "grid_row": null,
            "max_height": null,
            "align_content": null,
            "visibility": null,
            "align_self": null,
            "height": null,
            "min_height": null,
            "padding": null,
            "grid_auto_rows": null,
            "grid_gap": null,
            "max_width": null,
            "order": null,
            "_view_module_version": "1.2.0",
            "grid_template_areas": null,
            "object_position": null,
            "object_fit": null,
            "grid_auto_columns": null,
            "margin": null,
            "display": null,
            "left": null
          }
        },
        "0a30d005e08646fca19eb16b3315f45d": {
          "model_module": "@jupyter-widgets/controls",
          "model_name": "IntProgressModel",
          "state": {
            "_view_name": "ProgressView",
            "style": "IPY_MODEL_3c4d547609a74e13a8e05cf42ca24aec",
            "_dom_classes": [],
            "description": "100%",
            "_model_name": "IntProgressModel",
            "bar_style": "success",
            "max": 400000,
            "_view_module": "@jupyter-widgets/controls",
            "_model_module_version": "1.5.0",
            "value": 400000,
            "_view_count": null,
            "_view_module_version": "1.5.0",
            "orientation": "horizontal",
            "min": 0,
            "description_tooltip": null,
            "_model_module": "@jupyter-widgets/controls",
            "layout": "IPY_MODEL_a7825f918c4f4ef98255bc216afeaa63"
          }
        },
        "7525211b922f447483ec79a461f9fac7": {
          "model_module": "@jupyter-widgets/controls",
          "model_name": "HTMLModel",
          "state": {
            "_view_name": "HTMLView",
            "style": "IPY_MODEL_4d6b9f6e45724c0994dcb864dc700c90",
            "_dom_classes": [],
            "description": "",
            "_model_name": "HTMLModel",
            "placeholder": "​",
            "_view_module": "@jupyter-widgets/controls",
            "_model_module_version": "1.5.0",
            "value": " 400000/400000 [18:05&lt;00:00, 368.61it/s]",
            "_view_count": null,
            "_view_module_version": "1.5.0",
            "description_tooltip": null,
            "_model_module": "@jupyter-widgets/controls",
            "layout": "IPY_MODEL_38db77b22a904f55a10e2ef23a412732"
          }
        },
        "3c4d547609a74e13a8e05cf42ca24aec": {
          "model_module": "@jupyter-widgets/controls",
          "model_name": "ProgressStyleModel",
          "state": {
            "_view_name": "StyleView",
            "_model_name": "ProgressStyleModel",
            "description_width": "initial",
            "_view_module": "@jupyter-widgets/base",
            "_model_module_version": "1.5.0",
            "_view_count": null,
            "_view_module_version": "1.2.0",
            "bar_color": null,
            "_model_module": "@jupyter-widgets/controls"
          }
        },
        "a7825f918c4f4ef98255bc216afeaa63": {
          "model_module": "@jupyter-widgets/base",
          "model_name": "LayoutModel",
          "state": {
            "_view_name": "LayoutView",
            "grid_template_rows": null,
            "right": null,
            "justify_content": null,
            "_view_module": "@jupyter-widgets/base",
            "overflow": null,
            "_model_module_version": "1.2.0",
            "_view_count": null,
            "flex_flow": null,
            "width": null,
            "min_width": null,
            "border": null,
            "align_items": null,
            "bottom": null,
            "_model_module": "@jupyter-widgets/base",
            "top": null,
            "grid_column": null,
            "overflow_y": null,
            "overflow_x": null,
            "grid_auto_flow": null,
            "grid_area": null,
            "grid_template_columns": null,
            "flex": null,
            "_model_name": "LayoutModel",
            "justify_items": null,
            "grid_row": null,
            "max_height": null,
            "align_content": null,
            "visibility": null,
            "align_self": null,
            "height": null,
            "min_height": null,
            "padding": null,
            "grid_auto_rows": null,
            "grid_gap": null,
            "max_width": null,
            "order": null,
            "_view_module_version": "1.2.0",
            "grid_template_areas": null,
            "object_position": null,
            "object_fit": null,
            "grid_auto_columns": null,
            "margin": null,
            "display": null,
            "left": null
          }
        },
        "4d6b9f6e45724c0994dcb864dc700c90": {
          "model_module": "@jupyter-widgets/controls",
          "model_name": "DescriptionStyleModel",
          "state": {
            "_view_name": "StyleView",
            "_model_name": "DescriptionStyleModel",
            "description_width": "",
            "_view_module": "@jupyter-widgets/base",
            "_model_module_version": "1.5.0",
            "_view_count": null,
            "_view_module_version": "1.2.0",
            "_model_module": "@jupyter-widgets/controls"
          }
        },
        "38db77b22a904f55a10e2ef23a412732": {
          "model_module": "@jupyter-widgets/base",
          "model_name": "LayoutModel",
          "state": {
            "_view_name": "LayoutView",
            "grid_template_rows": null,
            "right": null,
            "justify_content": null,
            "_view_module": "@jupyter-widgets/base",
            "overflow": null,
            "_model_module_version": "1.2.0",
            "_view_count": null,
            "flex_flow": null,
            "width": null,
            "min_width": null,
            "border": null,
            "align_items": null,
            "bottom": null,
            "_model_module": "@jupyter-widgets/base",
            "top": null,
            "grid_column": null,
            "overflow_y": null,
            "overflow_x": null,
            "grid_auto_flow": null,
            "grid_area": null,
            "grid_template_columns": null,
            "flex": null,
            "_model_name": "LayoutModel",
            "justify_items": null,
            "grid_row": null,
            "max_height": null,
            "align_content": null,
            "visibility": null,
            "align_self": null,
            "height": null,
            "min_height": null,
            "padding": null,
            "grid_auto_rows": null,
            "grid_gap": null,
            "max_width": null,
            "order": null,
            "_view_module_version": "1.2.0",
            "grid_template_areas": null,
            "object_position": null,
            "object_fit": null,
            "grid_auto_columns": null,
            "margin": null,
            "display": null,
            "left": null
          }
        },
        "bb06b1ae0a854ce2941936a794a9ebef": {
          "model_module": "@jupyter-widgets/controls",
          "model_name": "HBoxModel",
          "state": {
            "_view_name": "HBoxView",
            "_dom_classes": [],
            "_model_name": "HBoxModel",
            "_view_module": "@jupyter-widgets/controls",
            "_model_module_version": "1.5.0",
            "_view_count": null,
            "_view_module_version": "1.5.0",
            "box_style": "",
            "layout": "IPY_MODEL_e50eb8274a9342aebd43b31a0506eadf",
            "_model_module": "@jupyter-widgets/controls",
            "children": [
              "IPY_MODEL_2d248759e61b4f09b36b7998560b2469",
              "IPY_MODEL_9d3da8b837094075b16b70e6f0ebf20c"
            ]
          }
        },
        "e50eb8274a9342aebd43b31a0506eadf": {
          "model_module": "@jupyter-widgets/base",
          "model_name": "LayoutModel",
          "state": {
            "_view_name": "LayoutView",
            "grid_template_rows": null,
            "right": null,
            "justify_content": null,
            "_view_module": "@jupyter-widgets/base",
            "overflow": null,
            "_model_module_version": "1.2.0",
            "_view_count": null,
            "flex_flow": null,
            "width": null,
            "min_width": null,
            "border": null,
            "align_items": null,
            "bottom": null,
            "_model_module": "@jupyter-widgets/base",
            "top": null,
            "grid_column": null,
            "overflow_y": null,
            "overflow_x": null,
            "grid_auto_flow": null,
            "grid_area": null,
            "grid_template_columns": null,
            "flex": null,
            "_model_name": "LayoutModel",
            "justify_items": null,
            "grid_row": null,
            "max_height": null,
            "align_content": null,
            "visibility": null,
            "align_self": null,
            "height": null,
            "min_height": null,
            "padding": null,
            "grid_auto_rows": null,
            "grid_gap": null,
            "max_width": null,
            "order": null,
            "_view_module_version": "1.2.0",
            "grid_template_areas": null,
            "object_position": null,
            "object_fit": null,
            "grid_auto_columns": null,
            "margin": null,
            "display": null,
            "left": null
          }
        },
        "2d248759e61b4f09b36b7998560b2469": {
          "model_module": "@jupyter-widgets/controls",
          "model_name": "IntProgressModel",
          "state": {
            "_view_name": "ProgressView",
            "style": "IPY_MODEL_e6ae41b4979a4100b87334db455318e0",
            "_dom_classes": [],
            "description": "100%",
            "_model_name": "IntProgressModel",
            "bar_style": "success",
            "max": 400000,
            "_view_module": "@jupyter-widgets/controls",
            "_model_module_version": "1.5.0",
            "value": 400000,
            "_view_count": null,
            "_view_module_version": "1.5.0",
            "orientation": "horizontal",
            "min": 0,
            "description_tooltip": null,
            "_model_module": "@jupyter-widgets/controls",
            "layout": "IPY_MODEL_0ac05113a5064ca7a8f0c976c0cfaa45"
          }
        },
        "9d3da8b837094075b16b70e6f0ebf20c": {
          "model_module": "@jupyter-widgets/controls",
          "model_name": "HTMLModel",
          "state": {
            "_view_name": "HTMLView",
            "style": "IPY_MODEL_0b58719a900d41e9aee6691fe9fa8f28",
            "_dom_classes": [],
            "description": "",
            "_model_name": "HTMLModel",
            "placeholder": "​",
            "_view_module": "@jupyter-widgets/controls",
            "_model_module_version": "1.5.0",
            "value": " 400000/400000 [00:42&lt;00:00, 9386.23it/s]",
            "_view_count": null,
            "_view_module_version": "1.5.0",
            "description_tooltip": null,
            "_model_module": "@jupyter-widgets/controls",
            "layout": "IPY_MODEL_9430612e7df548b38cf138161e71bd98"
          }
        },
        "e6ae41b4979a4100b87334db455318e0": {
          "model_module": "@jupyter-widgets/controls",
          "model_name": "ProgressStyleModel",
          "state": {
            "_view_name": "StyleView",
            "_model_name": "ProgressStyleModel",
            "description_width": "initial",
            "_view_module": "@jupyter-widgets/base",
            "_model_module_version": "1.5.0",
            "_view_count": null,
            "_view_module_version": "1.2.0",
            "bar_color": null,
            "_model_module": "@jupyter-widgets/controls"
          }
        },
        "0ac05113a5064ca7a8f0c976c0cfaa45": {
          "model_module": "@jupyter-widgets/base",
          "model_name": "LayoutModel",
          "state": {
            "_view_name": "LayoutView",
            "grid_template_rows": null,
            "right": null,
            "justify_content": null,
            "_view_module": "@jupyter-widgets/base",
            "overflow": null,
            "_model_module_version": "1.2.0",
            "_view_count": null,
            "flex_flow": null,
            "width": null,
            "min_width": null,
            "border": null,
            "align_items": null,
            "bottom": null,
            "_model_module": "@jupyter-widgets/base",
            "top": null,
            "grid_column": null,
            "overflow_y": null,
            "overflow_x": null,
            "grid_auto_flow": null,
            "grid_area": null,
            "grid_template_columns": null,
            "flex": null,
            "_model_name": "LayoutModel",
            "justify_items": null,
            "grid_row": null,
            "max_height": null,
            "align_content": null,
            "visibility": null,
            "align_self": null,
            "height": null,
            "min_height": null,
            "padding": null,
            "grid_auto_rows": null,
            "grid_gap": null,
            "max_width": null,
            "order": null,
            "_view_module_version": "1.2.0",
            "grid_template_areas": null,
            "object_position": null,
            "object_fit": null,
            "grid_auto_columns": null,
            "margin": null,
            "display": null,
            "left": null
          }
        },
        "0b58719a900d41e9aee6691fe9fa8f28": {
          "model_module": "@jupyter-widgets/controls",
          "model_name": "DescriptionStyleModel",
          "state": {
            "_view_name": "StyleView",
            "_model_name": "DescriptionStyleModel",
            "description_width": "",
            "_view_module": "@jupyter-widgets/base",
            "_model_module_version": "1.5.0",
            "_view_count": null,
            "_view_module_version": "1.2.0",
            "_model_module": "@jupyter-widgets/controls"
          }
        },
        "9430612e7df548b38cf138161e71bd98": {
          "model_module": "@jupyter-widgets/base",
          "model_name": "LayoutModel",
          "state": {
            "_view_name": "LayoutView",
            "grid_template_rows": null,
            "right": null,
            "justify_content": null,
            "_view_module": "@jupyter-widgets/base",
            "overflow": null,
            "_model_module_version": "1.2.0",
            "_view_count": null,
            "flex_flow": null,
            "width": null,
            "min_width": null,
            "border": null,
            "align_items": null,
            "bottom": null,
            "_model_module": "@jupyter-widgets/base",
            "top": null,
            "grid_column": null,
            "overflow_y": null,
            "overflow_x": null,
            "grid_auto_flow": null,
            "grid_area": null,
            "grid_template_columns": null,
            "flex": null,
            "_model_name": "LayoutModel",
            "justify_items": null,
            "grid_row": null,
            "max_height": null,
            "align_content": null,
            "visibility": null,
            "align_self": null,
            "height": null,
            "min_height": null,
            "padding": null,
            "grid_auto_rows": null,
            "grid_gap": null,
            "max_width": null,
            "order": null,
            "_view_module_version": "1.2.0",
            "grid_template_areas": null,
            "object_position": null,
            "object_fit": null,
            "grid_auto_columns": null,
            "margin": null,
            "display": null,
            "left": null
          }
        },
        "034b79bc94504b8b958735a213f78ce8": {
          "model_module": "@jupyter-widgets/controls",
          "model_name": "HBoxModel",
          "state": {
            "_view_name": "HBoxView",
            "_dom_classes": [],
            "_model_name": "HBoxModel",
            "_view_module": "@jupyter-widgets/controls",
            "_model_module_version": "1.5.0",
            "_view_count": null,
            "_view_module_version": "1.5.0",
            "box_style": "",
            "layout": "IPY_MODEL_5dc6a49b57394d67943077366d3e6a05",
            "_model_module": "@jupyter-widgets/controls",
            "children": [
              "IPY_MODEL_3534740a361a4e26bd8155e1bb817b09",
              "IPY_MODEL_a06d83a8236a40d9839b7c712c35fbce"
            ]
          }
        },
        "5dc6a49b57394d67943077366d3e6a05": {
          "model_module": "@jupyter-widgets/base",
          "model_name": "LayoutModel",
          "state": {
            "_view_name": "LayoutView",
            "grid_template_rows": null,
            "right": null,
            "justify_content": null,
            "_view_module": "@jupyter-widgets/base",
            "overflow": null,
            "_model_module_version": "1.2.0",
            "_view_count": null,
            "flex_flow": null,
            "width": null,
            "min_width": null,
            "border": null,
            "align_items": null,
            "bottom": null,
            "_model_module": "@jupyter-widgets/base",
            "top": null,
            "grid_column": null,
            "overflow_y": null,
            "overflow_x": null,
            "grid_auto_flow": null,
            "grid_area": null,
            "grid_template_columns": null,
            "flex": null,
            "_model_name": "LayoutModel",
            "justify_items": null,
            "grid_row": null,
            "max_height": null,
            "align_content": null,
            "visibility": null,
            "align_self": null,
            "height": null,
            "min_height": null,
            "padding": null,
            "grid_auto_rows": null,
            "grid_gap": null,
            "max_width": null,
            "order": null,
            "_view_module_version": "1.2.0",
            "grid_template_areas": null,
            "object_position": null,
            "object_fit": null,
            "grid_auto_columns": null,
            "margin": null,
            "display": null,
            "left": null
          }
        },
        "3534740a361a4e26bd8155e1bb817b09": {
          "model_module": "@jupyter-widgets/controls",
          "model_name": "IntProgressModel",
          "state": {
            "_view_name": "ProgressView",
            "style": "IPY_MODEL_72ea016213ae4c9a88cc0826199004e4",
            "_dom_classes": [],
            "description": "100%",
            "_model_name": "IntProgressModel",
            "bar_style": "success",
            "max": 8544,
            "_view_module": "@jupyter-widgets/controls",
            "_model_module_version": "1.5.0",
            "value": 8544,
            "_view_count": null,
            "_view_module_version": "1.5.0",
            "orientation": "horizontal",
            "min": 0,
            "description_tooltip": null,
            "_model_module": "@jupyter-widgets/controls",
            "layout": "IPY_MODEL_91eda2c501214d0db631183a16635561"
          }
        },
        "a06d83a8236a40d9839b7c712c35fbce": {
          "model_module": "@jupyter-widgets/controls",
          "model_name": "HTMLModel",
          "state": {
            "_view_name": "HTMLView",
            "style": "IPY_MODEL_e0605787761749108c2183a63dd8774c",
            "_dom_classes": [],
            "description": "",
            "_model_name": "HTMLModel",
            "placeholder": "​",
            "_view_module": "@jupyter-widgets/controls",
            "_model_module_version": "1.5.0",
            "value": " 8544/8544 [00:04&lt;00:00, 1953.81it/s]",
            "_view_count": null,
            "_view_module_version": "1.5.0",
            "description_tooltip": null,
            "_model_module": "@jupyter-widgets/controls",
            "layout": "IPY_MODEL_0cc407f2c7ea45779d8d7009374fdae5"
          }
        },
        "72ea016213ae4c9a88cc0826199004e4": {
          "model_module": "@jupyter-widgets/controls",
          "model_name": "ProgressStyleModel",
          "state": {
            "_view_name": "StyleView",
            "_model_name": "ProgressStyleModel",
            "description_width": "initial",
            "_view_module": "@jupyter-widgets/base",
            "_model_module_version": "1.5.0",
            "_view_count": null,
            "_view_module_version": "1.2.0",
            "bar_color": null,
            "_model_module": "@jupyter-widgets/controls"
          }
        },
        "91eda2c501214d0db631183a16635561": {
          "model_module": "@jupyter-widgets/base",
          "model_name": "LayoutModel",
          "state": {
            "_view_name": "LayoutView",
            "grid_template_rows": null,
            "right": null,
            "justify_content": null,
            "_view_module": "@jupyter-widgets/base",
            "overflow": null,
            "_model_module_version": "1.2.0",
            "_view_count": null,
            "flex_flow": null,
            "width": null,
            "min_width": null,
            "border": null,
            "align_items": null,
            "bottom": null,
            "_model_module": "@jupyter-widgets/base",
            "top": null,
            "grid_column": null,
            "overflow_y": null,
            "overflow_x": null,
            "grid_auto_flow": null,
            "grid_area": null,
            "grid_template_columns": null,
            "flex": null,
            "_model_name": "LayoutModel",
            "justify_items": null,
            "grid_row": null,
            "max_height": null,
            "align_content": null,
            "visibility": null,
            "align_self": null,
            "height": null,
            "min_height": null,
            "padding": null,
            "grid_auto_rows": null,
            "grid_gap": null,
            "max_width": null,
            "order": null,
            "_view_module_version": "1.2.0",
            "grid_template_areas": null,
            "object_position": null,
            "object_fit": null,
            "grid_auto_columns": null,
            "margin": null,
            "display": null,
            "left": null
          }
        },
        "e0605787761749108c2183a63dd8774c": {
          "model_module": "@jupyter-widgets/controls",
          "model_name": "DescriptionStyleModel",
          "state": {
            "_view_name": "StyleView",
            "_model_name": "DescriptionStyleModel",
            "description_width": "",
            "_view_module": "@jupyter-widgets/base",
            "_model_module_version": "1.5.0",
            "_view_count": null,
            "_view_module_version": "1.2.0",
            "_model_module": "@jupyter-widgets/controls"
          }
        },
        "0cc407f2c7ea45779d8d7009374fdae5": {
          "model_module": "@jupyter-widgets/base",
          "model_name": "LayoutModel",
          "state": {
            "_view_name": "LayoutView",
            "grid_template_rows": null,
            "right": null,
            "justify_content": null,
            "_view_module": "@jupyter-widgets/base",
            "overflow": null,
            "_model_module_version": "1.2.0",
            "_view_count": null,
            "flex_flow": null,
            "width": null,
            "min_width": null,
            "border": null,
            "align_items": null,
            "bottom": null,
            "_model_module": "@jupyter-widgets/base",
            "top": null,
            "grid_column": null,
            "overflow_y": null,
            "overflow_x": null,
            "grid_auto_flow": null,
            "grid_area": null,
            "grid_template_columns": null,
            "flex": null,
            "_model_name": "LayoutModel",
            "justify_items": null,
            "grid_row": null,
            "max_height": null,
            "align_content": null,
            "visibility": null,
            "align_self": null,
            "height": null,
            "min_height": null,
            "padding": null,
            "grid_auto_rows": null,
            "grid_gap": null,
            "max_width": null,
            "order": null,
            "_view_module_version": "1.2.0",
            "grid_template_areas": null,
            "object_position": null,
            "object_fit": null,
            "grid_auto_columns": null,
            "margin": null,
            "display": null,
            "left": null
          }
        },
        "1ed60062fe854637bc90af1d7fe62122": {
          "model_module": "@jupyter-widgets/controls",
          "model_name": "HBoxModel",
          "state": {
            "_view_name": "HBoxView",
            "_dom_classes": [],
            "_model_name": "HBoxModel",
            "_view_module": "@jupyter-widgets/controls",
            "_model_module_version": "1.5.0",
            "_view_count": null,
            "_view_module_version": "1.5.0",
            "box_style": "",
            "layout": "IPY_MODEL_607d2967eaab469eb48c44fe49771290",
            "_model_module": "@jupyter-widgets/controls",
            "children": [
              "IPY_MODEL_396f5c9adbdd45aba99b37b5a68a0e23",
              "IPY_MODEL_b454fd5a94b845f0a697d75b933c9421"
            ]
          }
        },
        "607d2967eaab469eb48c44fe49771290": {
          "model_module": "@jupyter-widgets/base",
          "model_name": "LayoutModel",
          "state": {
            "_view_name": "LayoutView",
            "grid_template_rows": null,
            "right": null,
            "justify_content": null,
            "_view_module": "@jupyter-widgets/base",
            "overflow": null,
            "_model_module_version": "1.2.0",
            "_view_count": null,
            "flex_flow": null,
            "width": null,
            "min_width": null,
            "border": null,
            "align_items": null,
            "bottom": null,
            "_model_module": "@jupyter-widgets/base",
            "top": null,
            "grid_column": null,
            "overflow_y": null,
            "overflow_x": null,
            "grid_auto_flow": null,
            "grid_area": null,
            "grid_template_columns": null,
            "flex": null,
            "_model_name": "LayoutModel",
            "justify_items": null,
            "grid_row": null,
            "max_height": null,
            "align_content": null,
            "visibility": null,
            "align_self": null,
            "height": null,
            "min_height": null,
            "padding": null,
            "grid_auto_rows": null,
            "grid_gap": null,
            "max_width": null,
            "order": null,
            "_view_module_version": "1.2.0",
            "grid_template_areas": null,
            "object_position": null,
            "object_fit": null,
            "grid_auto_columns": null,
            "margin": null,
            "display": null,
            "left": null
          }
        },
        "396f5c9adbdd45aba99b37b5a68a0e23": {
          "model_module": "@jupyter-widgets/controls",
          "model_name": "IntProgressModel",
          "state": {
            "_view_name": "ProgressView",
            "style": "IPY_MODEL_5fdddc1ce6144b22acbd0389d1934043",
            "_dom_classes": [],
            "description": "100%",
            "_model_name": "IntProgressModel",
            "bar_style": "success",
            "max": 1101,
            "_view_module": "@jupyter-widgets/controls",
            "_model_module_version": "1.5.0",
            "value": 1101,
            "_view_count": null,
            "_view_module_version": "1.5.0",
            "orientation": "horizontal",
            "min": 0,
            "description_tooltip": null,
            "_model_module": "@jupyter-widgets/controls",
            "layout": "IPY_MODEL_cef1912702d24fac8fd33761ba25303c"
          }
        },
        "b454fd5a94b845f0a697d75b933c9421": {
          "model_module": "@jupyter-widgets/controls",
          "model_name": "HTMLModel",
          "state": {
            "_view_name": "HTMLView",
            "style": "IPY_MODEL_a8a84fae6d30458984c2aa7bd4c423ad",
            "_dom_classes": [],
            "description": "",
            "_model_name": "HTMLModel",
            "placeholder": "​",
            "_view_module": "@jupyter-widgets/controls",
            "_model_module_version": "1.5.0",
            "value": " 1101/1101 [00:01&lt;00:00, 775.73it/s]",
            "_view_count": null,
            "_view_module_version": "1.5.0",
            "description_tooltip": null,
            "_model_module": "@jupyter-widgets/controls",
            "layout": "IPY_MODEL_1e864f41df834415a5bde5180709be6a"
          }
        },
        "5fdddc1ce6144b22acbd0389d1934043": {
          "model_module": "@jupyter-widgets/controls",
          "model_name": "ProgressStyleModel",
          "state": {
            "_view_name": "StyleView",
            "_model_name": "ProgressStyleModel",
            "description_width": "initial",
            "_view_module": "@jupyter-widgets/base",
            "_model_module_version": "1.5.0",
            "_view_count": null,
            "_view_module_version": "1.2.0",
            "bar_color": null,
            "_model_module": "@jupyter-widgets/controls"
          }
        },
        "cef1912702d24fac8fd33761ba25303c": {
          "model_module": "@jupyter-widgets/base",
          "model_name": "LayoutModel",
          "state": {
            "_view_name": "LayoutView",
            "grid_template_rows": null,
            "right": null,
            "justify_content": null,
            "_view_module": "@jupyter-widgets/base",
            "overflow": null,
            "_model_module_version": "1.2.0",
            "_view_count": null,
            "flex_flow": null,
            "width": null,
            "min_width": null,
            "border": null,
            "align_items": null,
            "bottom": null,
            "_model_module": "@jupyter-widgets/base",
            "top": null,
            "grid_column": null,
            "overflow_y": null,
            "overflow_x": null,
            "grid_auto_flow": null,
            "grid_area": null,
            "grid_template_columns": null,
            "flex": null,
            "_model_name": "LayoutModel",
            "justify_items": null,
            "grid_row": null,
            "max_height": null,
            "align_content": null,
            "visibility": null,
            "align_self": null,
            "height": null,
            "min_height": null,
            "padding": null,
            "grid_auto_rows": null,
            "grid_gap": null,
            "max_width": null,
            "order": null,
            "_view_module_version": "1.2.0",
            "grid_template_areas": null,
            "object_position": null,
            "object_fit": null,
            "grid_auto_columns": null,
            "margin": null,
            "display": null,
            "left": null
          }
        },
        "a8a84fae6d30458984c2aa7bd4c423ad": {
          "model_module": "@jupyter-widgets/controls",
          "model_name": "DescriptionStyleModel",
          "state": {
            "_view_name": "StyleView",
            "_model_name": "DescriptionStyleModel",
            "description_width": "",
            "_view_module": "@jupyter-widgets/base",
            "_model_module_version": "1.5.0",
            "_view_count": null,
            "_view_module_version": "1.2.0",
            "_model_module": "@jupyter-widgets/controls"
          }
        },
        "1e864f41df834415a5bde5180709be6a": {
          "model_module": "@jupyter-widgets/base",
          "model_name": "LayoutModel",
          "state": {
            "_view_name": "LayoutView",
            "grid_template_rows": null,
            "right": null,
            "justify_content": null,
            "_view_module": "@jupyter-widgets/base",
            "overflow": null,
            "_model_module_version": "1.2.0",
            "_view_count": null,
            "flex_flow": null,
            "width": null,
            "min_width": null,
            "border": null,
            "align_items": null,
            "bottom": null,
            "_model_module": "@jupyter-widgets/base",
            "top": null,
            "grid_column": null,
            "overflow_y": null,
            "overflow_x": null,
            "grid_auto_flow": null,
            "grid_area": null,
            "grid_template_columns": null,
            "flex": null,
            "_model_name": "LayoutModel",
            "justify_items": null,
            "grid_row": null,
            "max_height": null,
            "align_content": null,
            "visibility": null,
            "align_self": null,
            "height": null,
            "min_height": null,
            "padding": null,
            "grid_auto_rows": null,
            "grid_gap": null,
            "max_width": null,
            "order": null,
            "_view_module_version": "1.2.0",
            "grid_template_areas": null,
            "object_position": null,
            "object_fit": null,
            "grid_auto_columns": null,
            "margin": null,
            "display": null,
            "left": null
          }
        },
        "d3afd2400a794123bc94ed0ed791544e": {
          "model_module": "@jupyter-widgets/controls",
          "model_name": "HBoxModel",
          "state": {
            "_view_name": "HBoxView",
            "_dom_classes": [],
            "_model_name": "HBoxModel",
            "_view_module": "@jupyter-widgets/controls",
            "_model_module_version": "1.5.0",
            "_view_count": null,
            "_view_module_version": "1.5.0",
            "box_style": "",
            "layout": "IPY_MODEL_fb7663b632d342c3974180d70e541703",
            "_model_module": "@jupyter-widgets/controls",
            "children": [
              "IPY_MODEL_d9405514d39b4b26bfdc2d4f899ed4ae",
              "IPY_MODEL_e26b1dd748c64339b2eea2c25a713d15"
            ]
          }
        },
        "fb7663b632d342c3974180d70e541703": {
          "model_module": "@jupyter-widgets/base",
          "model_name": "LayoutModel",
          "state": {
            "_view_name": "LayoutView",
            "grid_template_rows": null,
            "right": null,
            "justify_content": null,
            "_view_module": "@jupyter-widgets/base",
            "overflow": null,
            "_model_module_version": "1.2.0",
            "_view_count": null,
            "flex_flow": null,
            "width": null,
            "min_width": null,
            "border": null,
            "align_items": null,
            "bottom": null,
            "_model_module": "@jupyter-widgets/base",
            "top": null,
            "grid_column": null,
            "overflow_y": null,
            "overflow_x": null,
            "grid_auto_flow": null,
            "grid_area": null,
            "grid_template_columns": null,
            "flex": null,
            "_model_name": "LayoutModel",
            "justify_items": null,
            "grid_row": null,
            "max_height": null,
            "align_content": null,
            "visibility": null,
            "align_self": null,
            "height": null,
            "min_height": null,
            "padding": null,
            "grid_auto_rows": null,
            "grid_gap": null,
            "max_width": null,
            "order": null,
            "_view_module_version": "1.2.0",
            "grid_template_areas": null,
            "object_position": null,
            "object_fit": null,
            "grid_auto_columns": null,
            "margin": null,
            "display": null,
            "left": null
          }
        },
        "d9405514d39b4b26bfdc2d4f899ed4ae": {
          "model_module": "@jupyter-widgets/controls",
          "model_name": "IntProgressModel",
          "state": {
            "_view_name": "ProgressView",
            "style": "IPY_MODEL_fbcddd229bf246b7ba24ffdc9d77e469",
            "_dom_classes": [],
            "description": "100%",
            "_model_name": "IntProgressModel",
            "bar_style": "success",
            "max": 2210,
            "_view_module": "@jupyter-widgets/controls",
            "_model_module_version": "1.5.0",
            "value": 2210,
            "_view_count": null,
            "_view_module_version": "1.5.0",
            "orientation": "horizontal",
            "min": 0,
            "description_tooltip": null,
            "_model_module": "@jupyter-widgets/controls",
            "layout": "IPY_MODEL_bf9db86b1c83474c9f2c16449d31aeb6"
          }
        },
        "e26b1dd748c64339b2eea2c25a713d15": {
          "model_module": "@jupyter-widgets/controls",
          "model_name": "HTMLModel",
          "state": {
            "_view_name": "HTMLView",
            "style": "IPY_MODEL_beba4613a94c4b8097ec026c25c87091",
            "_dom_classes": [],
            "description": "",
            "_model_name": "HTMLModel",
            "placeholder": "​",
            "_view_module": "@jupyter-widgets/controls",
            "_model_module_version": "1.5.0",
            "value": " 2210/2210 [00:24&lt;00:00, 91.48it/s]",
            "_view_count": null,
            "_view_module_version": "1.5.0",
            "description_tooltip": null,
            "_model_module": "@jupyter-widgets/controls",
            "layout": "IPY_MODEL_59dc2671c9f74e19a9895d31af8ec014"
          }
        },
        "fbcddd229bf246b7ba24ffdc9d77e469": {
          "model_module": "@jupyter-widgets/controls",
          "model_name": "ProgressStyleModel",
          "state": {
            "_view_name": "StyleView",
            "_model_name": "ProgressStyleModel",
            "description_width": "initial",
            "_view_module": "@jupyter-widgets/base",
            "_model_module_version": "1.5.0",
            "_view_count": null,
            "_view_module_version": "1.2.0",
            "bar_color": null,
            "_model_module": "@jupyter-widgets/controls"
          }
        },
        "bf9db86b1c83474c9f2c16449d31aeb6": {
          "model_module": "@jupyter-widgets/base",
          "model_name": "LayoutModel",
          "state": {
            "_view_name": "LayoutView",
            "grid_template_rows": null,
            "right": null,
            "justify_content": null,
            "_view_module": "@jupyter-widgets/base",
            "overflow": null,
            "_model_module_version": "1.2.0",
            "_view_count": null,
            "flex_flow": null,
            "width": null,
            "min_width": null,
            "border": null,
            "align_items": null,
            "bottom": null,
            "_model_module": "@jupyter-widgets/base",
            "top": null,
            "grid_column": null,
            "overflow_y": null,
            "overflow_x": null,
            "grid_auto_flow": null,
            "grid_area": null,
            "grid_template_columns": null,
            "flex": null,
            "_model_name": "LayoutModel",
            "justify_items": null,
            "grid_row": null,
            "max_height": null,
            "align_content": null,
            "visibility": null,
            "align_self": null,
            "height": null,
            "min_height": null,
            "padding": null,
            "grid_auto_rows": null,
            "grid_gap": null,
            "max_width": null,
            "order": null,
            "_view_module_version": "1.2.0",
            "grid_template_areas": null,
            "object_position": null,
            "object_fit": null,
            "grid_auto_columns": null,
            "margin": null,
            "display": null,
            "left": null
          }
        },
        "beba4613a94c4b8097ec026c25c87091": {
          "model_module": "@jupyter-widgets/controls",
          "model_name": "DescriptionStyleModel",
          "state": {
            "_view_name": "StyleView",
            "_model_name": "DescriptionStyleModel",
            "description_width": "",
            "_view_module": "@jupyter-widgets/base",
            "_model_module_version": "1.5.0",
            "_view_count": null,
            "_view_module_version": "1.2.0",
            "_model_module": "@jupyter-widgets/controls"
          }
        },
        "59dc2671c9f74e19a9895d31af8ec014": {
          "model_module": "@jupyter-widgets/base",
          "model_name": "LayoutModel",
          "state": {
            "_view_name": "LayoutView",
            "grid_template_rows": null,
            "right": null,
            "justify_content": null,
            "_view_module": "@jupyter-widgets/base",
            "overflow": null,
            "_model_module_version": "1.2.0",
            "_view_count": null,
            "flex_flow": null,
            "width": null,
            "min_width": null,
            "border": null,
            "align_items": null,
            "bottom": null,
            "_model_module": "@jupyter-widgets/base",
            "top": null,
            "grid_column": null,
            "overflow_y": null,
            "overflow_x": null,
            "grid_auto_flow": null,
            "grid_area": null,
            "grid_template_columns": null,
            "flex": null,
            "_model_name": "LayoutModel",
            "justify_items": null,
            "grid_row": null,
            "max_height": null,
            "align_content": null,
            "visibility": null,
            "align_self": null,
            "height": null,
            "min_height": null,
            "padding": null,
            "grid_auto_rows": null,
            "grid_gap": null,
            "max_width": null,
            "order": null,
            "_view_module_version": "1.2.0",
            "grid_template_areas": null,
            "object_position": null,
            "object_fit": null,
            "grid_auto_columns": null,
            "margin": null,
            "display": null,
            "left": null
          }
        }
      }
    }
  },
  "cells": [
    {
      "cell_type": "markdown",
      "metadata": {
        "id": "view-in-github",
        "colab_type": "text"
      },
      "source": [
        "<a href=\"https://colab.research.google.com/github/albert-yue/gcn-explainability/blob/master/notebooks/experiment_sst.ipynb\" target=\"_parent\"><img src=\"https://colab.research.google.com/assets/colab-badge.svg\" alt=\"Open In Colab\"/></a>"
      ]
    },
    {
      "cell_type": "code",
      "metadata": {
        "id": "FNmaPYq5QeVO",
        "colab_type": "code",
        "outputId": "379bc2d2-12cc-43ae-e30d-df0dc37ae320",
        "colab": {
          "base_uri": "https://localhost:8080/",
          "height": 125
        }
      },
      "source": [
        "from google.colab import drive\n",
        "drive.mount('/content/gdrive')"
      ],
      "execution_count": 2,
      "outputs": [
        {
          "output_type": "stream",
          "text": [
            "Go to this URL in a browser: https://accounts.google.com/o/oauth2/auth?client_id=947318989803-6bn6qk8qdgf4n4g3pfee6491hc0brc4i.apps.googleusercontent.com&redirect_uri=urn%3aietf%3awg%3aoauth%3a2.0%3aoob&response_type=code&scope=email%20https%3a%2f%2fwww.googleapis.com%2fauth%2fdocs.test%20https%3a%2f%2fwww.googleapis.com%2fauth%2fdrive%20https%3a%2f%2fwww.googleapis.com%2fauth%2fdrive.photos.readonly%20https%3a%2f%2fwww.googleapis.com%2fauth%2fpeopleapi.readonly\n",
            "\n",
            "Enter your authorization code:\n",
            "··········\n",
            "Mounted at /content/gdrive\n"
          ],
          "name": "stdout"
        }
      ]
    },
    {
      "cell_type": "code",
      "metadata": {
        "id": "_qgqRZORRtWe",
        "colab_type": "code",
        "outputId": "42594b33-3c3c-4ef3-bf90-fc3f6adf0401",
        "colab": {
          "base_uri": "https://localhost:8080/",
          "height": 35
        }
      },
      "source": [
        "%cd gdrive/My\\ Drive/MIT/gcn_explainability/"
      ],
      "execution_count": 1,
      "outputs": [
        {
          "output_type": "stream",
          "text": [
            "/content/gdrive/My Drive/MIT/gcn_explainability\n"
          ],
          "name": "stdout"
        }
      ]
    },
    {
      "cell_type": "code",
      "metadata": {
        "id": "97FxfI2NSApc",
        "colab_type": "code",
        "outputId": "7b292e9c-57c1-474a-b5db-ad1575c4dfee",
        "colab": {
          "base_uri": "https://localhost:8080/",
          "height": 211
        }
      },
      "source": [
        "!git pull"
      ],
      "execution_count": 2,
      "outputs": [
        {
          "output_type": "stream",
          "text": [
            "remote: Enumerating objects: 7, done.\u001b[K\n",
            "remote: Counting objects:  14% (1/7)\u001b[K\rremote: Counting objects:  28% (2/7)\u001b[K\rremote: Counting objects:  42% (3/7)\u001b[K\rremote: Counting objects:  57% (4/7)\u001b[K\rremote: Counting objects:  71% (5/7)\u001b[K\rremote: Counting objects:  85% (6/7)\u001b[K\rremote: Counting objects: 100% (7/7)\u001b[K\rremote: Counting objects: 100% (7/7), done.\u001b[K\n",
            "remote: Compressing objects: 100% (1/1)\u001b[K\rremote: Compressing objects: 100% (1/1), done.\u001b[K\n",
            "remote: Total 4 (delta 3), reused 4 (delta 3), pack-reused 0\u001b[K\n",
            "Unpacking objects: 100% (4/4), done.\n",
            "From https://github.com/albert-yue/gcn-explanability\n",
            "   a55323d..f954ed8  master     -> origin/master\n",
            "Updating a55323d..f954ed8\n",
            "Fast-forward\n",
            " src/treebank_train.py | 2 \u001b[32m+\u001b[m\u001b[31m-\u001b[m\n",
            " 1 file changed, 1 insertion(+), 1 deletion(-)\n"
          ],
          "name": "stdout"
        }
      ]
    },
    {
      "cell_type": "code",
      "metadata": {
        "id": "Y3nieAOLachl",
        "colab_type": "code",
        "colab": {}
      },
      "source": [
        "import matplotlib.pyplot as plt\n",
        "import numpy as np\n",
        "from scipy.stats import norm\n",
        "import torch\n",
        "from tqdm.auto import tqdm\n",
        "\n",
        "from src.data import Treebank, SyntaxTree, GCNDataset, GCNInput\n",
        "from src.models.gcn import GCNTreebankModel\n",
        "from src.stanford_preprocessing import *\n",
        "from src.train import accuracy\n",
        "from src.treebank_train import train, evaluate"
      ],
      "execution_count": 0,
      "outputs": []
    },
    {
      "cell_type": "markdown",
      "metadata": {
        "id": "EHBGujNwadZ2",
        "colab_type": "text"
      },
      "source": [
        "# Working out GloVe embeddings"
      ]
    },
    {
      "cell_type": "code",
      "metadata": {
        "id": "6pRf8nADwqEX",
        "colab_type": "code",
        "colab": {
          "base_uri": "https://localhost:8080/",
          "height": 67,
          "referenced_widgets": [
            "4b611457c0b3474ead0f5f9f421d1776",
            "db9cf370fefa4f329442fa736d17a960",
            "0a30d005e08646fca19eb16b3315f45d",
            "7525211b922f447483ec79a461f9fac7",
            "3c4d547609a74e13a8e05cf42ca24aec",
            "a7825f918c4f4ef98255bc216afeaa63",
            "4d6b9f6e45724c0994dcb864dc700c90",
            "38db77b22a904f55a10e2ef23a412732"
          ]
        },
        "outputId": "bb492611-da45-40aa-e2f2-97b3e1dbffcc"
      },
      "source": [
        "embedding_map = stpp.load_glove_embeddings('data/glove.6B.200d.txt')"
      ],
      "execution_count": 7,
      "outputs": [
        {
          "output_type": "display_data",
          "data": {
            "application/vnd.jupyter.widget-view+json": {
              "model_id": "4b611457c0b3474ead0f5f9f421d1776",
              "version_minor": 0,
              "version_major": 2
            },
            "text/plain": [
              "HBox(children=(IntProgress(value=0, max=400000), HTML(value='')))"
            ]
          },
          "metadata": {
            "tags": []
          }
        },
        {
          "output_type": "stream",
          "text": [
            "\n"
          ],
          "name": "stdout"
        }
      ]
    },
    {
      "cell_type": "code",
      "metadata": {
        "id": "AL-QOcoawu6E",
        "colab_type": "code",
        "colab": {}
      },
      "source": [
        "all_embeddings = torch.cat(list(embedding_map.values()), dim=0)"
      ],
      "execution_count": 0,
      "outputs": []
    },
    {
      "cell_type": "code",
      "metadata": {
        "id": "s4sa8SixHmIx",
        "colab_type": "code",
        "colab": {}
      },
      "source": [
        "all_values = all_embeddings.flatten().detach().numpy()\n",
        "\n",
        "mu, std = norm.fit(all_values)"
      ],
      "execution_count": 0,
      "outputs": []
    },
    {
      "cell_type": "code",
      "metadata": {
        "id": "UrO8UhIYz4WO",
        "colab_type": "code",
        "colab": {
          "base_uri": "https://localhost:8080/",
          "height": 281
        },
        "outputId": "6cfb62c0-c410-4875-8412-46a3b1ab6879"
      },
      "source": [
        "plt.hist(all_values, bins=40, density=True, alpha=0.6)\n",
        "\n",
        "xmin, xmax = plt.xlim()\n",
        "x = np.linspace(xmin, xmax, 100)\n",
        "p = norm.pdf(x, mu, std)\n",
        "plt.plot(x, p)\n",
        "title = \"Fit results: mu = %.2f,  std = %.2f\" % (mu, std)\n",
        "plt.title(title)\n",
        "\n",
        "plt.show()"
      ],
      "execution_count": 41,
      "outputs": [
        {
          "output_type": "display_data",
          "data": {
            "image/png": "[encoded data removed]",
            "text/plain": [
              "<Figure size 432x288 with 1 Axes>"
            ]
          },
          "metadata": {
            "tags": [],
            "needs_background": "light"
          }
        }
      ]
    },
    {
      "cell_type": "code",
      "metadata": {
        "id": "jTkLb5jaDAbk",
        "colab_type": "code",
        "colab": {
          "base_uri": "https://localhost:8080/",
          "height": 281
        },
        "outputId": "0ade6573-9cdf-4449-de72-70b484d863a1"
      },
      "source": [
        "all_values_0 = all_embeddings[:, 0:1].flatten().detach().numpy()\n",
        "\n",
        "mu, std = norm.fit(all_values_0)\n",
        "\n",
        "plt.hist(all_values_0, bins=40, density=True, alpha=0.6)\n",
        "\n",
        "xmin, xmax = plt.xlim()\n",
        "x = np.linspace(xmin, xmax, 100)\n",
        "p = norm.pdf(x, mu, std)\n",
        "plt.plot(x, p)\n",
        "title = \"Fit results: mu = %.2f,  std = %.2f\" % (mu, std)\n",
        "plt.title(title)\n",
        "\n",
        "plt.show()"
      ],
      "execution_count": 42,
      "outputs": [
        {
          "output_type": "display_data",
          "data": {
            "image/png": "[encoded data removed]",
            "text/plain": [
              "<Figure size 432x288 with 1 Axes>"
            ]
          },
          "metadata": {
            "tags": [],
            "needs_background": "light"
          }
        }
      ]
    },
    {
      "cell_type": "code",
      "metadata": {
        "id": "57skRjSZJWKJ",
        "colab_type": "code",
        "colab": {}
      },
      "source": [
        "embed_dims = all_embeddings.size(1)\n",
        "\n",
        "mus, stds = [], []\n",
        "\n",
        "for i in range(embed_dims):\n",
        "    all_dim_values = all_embeddings[:, i].detach().numpy()\n",
        "    mu, std = norm.fit(all_dim_values)\n",
        "    mus.append(mu)\n",
        "    stds.append(std)"
      ],
      "execution_count": 0,
      "outputs": []
    },
    {
      "cell_type": "code",
      "metadata": {
        "id": "jNSKp_KeJuvd",
        "colab_type": "code",
        "colab": {
          "base_uri": "https://localhost:8080/",
          "height": 513
        },
        "outputId": "01676d27-d840-4f68-f1fe-12e7c15c5a55"
      },
      "source": [
        "plt.hist(mus, bins=20)\n",
        "plt.show()\n",
        "plt.hist(stds, bins=20)\n",
        "plt.show()"
      ],
      "execution_count": 51,
      "outputs": [
        {
          "output_type": "display_data",
          "data": {
            "image/png": "[encoded data removed]",
            "text/plain": [
              "<Figure size 432x288 with 1 Axes>"
            ]
          },
          "metadata": {
            "tags": [],
            "needs_background": "light"
          }
        },
        {
          "output_type": "display_data",
          "data": {
            "image/png": "[encoded data removed]",
            "text/plain": [
              "<Figure size 432x288 with 1 Axes>"
            ]
          },
          "metadata": {
            "tags": [],
            "needs_background": "light"
          }
        }
      ]
    },
    {
      "cell_type": "markdown",
      "metadata": {
        "id": "jkC8bb4BSMWw",
        "colab_type": "text"
      },
      "source": [
        "# Set up inputs and adjacency matrices"
      ]
    },
    {
      "cell_type": "code",
      "metadata": {
        "id": "z5XAGinGl5Nz",
        "colab_type": "code",
        "colab": {
          "base_uri": "https://localhost:8080/",
          "height": 67,
          "referenced_widgets": [
            "bb06b1ae0a854ce2941936a794a9ebef",
            "e50eb8274a9342aebd43b31a0506eadf",
            "2d248759e61b4f09b36b7998560b2469",
            "9d3da8b837094075b16b70e6f0ebf20c",
            "e6ae41b4979a4100b87334db455318e0",
            "0ac05113a5064ca7a8f0c976c0cfaa45",
            "0b58719a900d41e9aee6691fe9fa8f28",
            "9430612e7df548b38cf138161e71bd98"
          ]
        },
        "outputId": "9299c3b6-6e1f-4dcb-eb84-ccd78c0ccbbf"
      },
      "source": [
        "embedding_map = load_glove_embeddings('data/glove.6B.200d.txt')"
      ],
      "execution_count": 3,
      "outputs": [
        {
          "output_type": "display_data",
          "data": {
            "application/vnd.jupyter.widget-view+json": {
              "model_id": "bb06b1ae0a854ce2941936a794a9ebef",
              "version_minor": 0,
              "version_major": 2
            },
            "text/plain": [
              "HBox(children=(IntProgress(value=0, max=400000), HTML(value='')))"
            ]
          },
          "metadata": {
            "tags": []
          }
        },
        {
          "output_type": "stream",
          "text": [
            "\n"
          ],
          "name": "stdout"
        }
      ]
    },
    {
      "cell_type": "code",
      "metadata": {
        "id": "VaahXRf_mEgu",
        "colab_type": "code",
        "colab": {
          "base_uri": "https://localhost:8080/",
          "height": 67,
          "referenced_widgets": [
            "034b79bc94504b8b958735a213f78ce8",
            "5dc6a49b57394d67943077366d3e6a05",
            "3534740a361a4e26bd8155e1bb817b09",
            "a06d83a8236a40d9839b7c712c35fbce",
            "72ea016213ae4c9a88cc0826199004e4",
            "91eda2c501214d0db631183a16635561",
            "e0605787761749108c2183a63dd8774c",
            "0cc407f2c7ea45779d8d7009374fdae5"
          ]
        },
        "outputId": "24687153-06a0-4058-e0b9-8e2c8f7e5dbb"
      },
      "source": [
        "trees = []\n",
        "with open('data/stanford_sentiment_treebank/train.txt') as f:\n",
        "    for line in tqdm(f.readlines()):\n",
        "        tree = parse_tree(line)\n",
        "        sentence = extract_tokens(tree)\n",
        "        label = tree.label\n",
        "        trees.append(SyntaxTree(sentence, tree, label))\n",
        "train_treebank = Treebank(trees)"
      ],
      "execution_count": 4,
      "outputs": [
        {
          "output_type": "display_data",
          "data": {
            "application/vnd.jupyter.widget-view+json": {
              "model_id": "034b79bc94504b8b958735a213f78ce8",
              "version_minor": 0,
              "version_major": 2
            },
            "text/plain": [
              "HBox(children=(IntProgress(value=0, max=8544), HTML(value='')))"
            ]
          },
          "metadata": {
            "tags": []
          }
        },
        {
          "output_type": "stream",
          "text": [
            "\n"
          ],
          "name": "stdout"
        }
      ]
    },
    {
      "cell_type": "code",
      "metadata": {
        "id": "Gdt4rxBqmO_P",
        "colab_type": "code",
        "colab": {
          "base_uri": "https://localhost:8080/",
          "height": 67,
          "referenced_widgets": [
            "1ed60062fe854637bc90af1d7fe62122",
            "607d2967eaab469eb48c44fe49771290",
            "396f5c9adbdd45aba99b37b5a68a0e23",
            "b454fd5a94b845f0a697d75b933c9421",
            "5fdddc1ce6144b22acbd0389d1934043",
            "cef1912702d24fac8fd33761ba25303c",
            "a8a84fae6d30458984c2aa7bd4c423ad",
            "1e864f41df834415a5bde5180709be6a"
          ]
        },
        "outputId": "cb8b0fc5-0f71-4a64-8fe6-77f9a9d21476"
      },
      "source": [
        "trees = []\n",
        "with open('data/stanford_sentiment_treebank/dev.txt') as f:\n",
        "    for line in tqdm(f.readlines()):\n",
        "        tree = parse_tree(line)\n",
        "        sentence = extract_tokens(tree)\n",
        "        label = tree.label\n",
        "        trees.append(SyntaxTree(sentence, tree, label))\n",
        "dev_treebank = Treebank(trees)"
      ],
      "execution_count": 5,
      "outputs": [
        {
          "output_type": "display_data",
          "data": {
            "application/vnd.jupyter.widget-view+json": {
              "model_id": "1ed60062fe854637bc90af1d7fe62122",
              "version_minor": 0,
              "version_major": 2
            },
            "text/plain": [
              "HBox(children=(IntProgress(value=0, max=1101), HTML(value='')))"
            ]
          },
          "metadata": {
            "tags": []
          }
        },
        {
          "output_type": "stream",
          "text": [
            "\n"
          ],
          "name": "stdout"
        }
      ]
    },
    {
      "cell_type": "code",
      "metadata": {
        "id": "atZD9888mR4t",
        "colab_type": "code",
        "colab": {
          "base_uri": "https://localhost:8080/",
          "height": 67,
          "referenced_widgets": [
            "d3afd2400a794123bc94ed0ed791544e",
            "fb7663b632d342c3974180d70e541703",
            "d9405514d39b4b26bfdc2d4f899ed4ae",
            "e26b1dd748c64339b2eea2c25a713d15",
            "fbcddd229bf246b7ba24ffdc9d77e469",
            "bf9db86b1c83474c9f2c16449d31aeb6",
            "beba4613a94c4b8097ec026c25c87091",
            "59dc2671c9f74e19a9895d31af8ec014"
          ]
        },
        "outputId": "f12fc0e3-df09-4414-843d-b5aeafb2a3e8"
      },
      "source": [
        "trees = []\n",
        "with open('data/stanford_sentiment_treebank/test.txt') as f:\n",
        "    for line in tqdm(f.readlines()):\n",
        "        tree = parse_tree(line)\n",
        "        sentence = extract_tokens(tree)\n",
        "        label = tree.label\n",
        "        trees.append(SyntaxTree(sentence, tree, label))\n",
        "test_treebank = Treebank(trees)"
      ],
      "execution_count": 6,
      "outputs": [
        {
          "output_type": "display_data",
          "data": {
            "application/vnd.jupyter.widget-view+json": {
              "model_id": "d3afd2400a794123bc94ed0ed791544e",
              "version_minor": 0,
              "version_major": 2
            },
            "text/plain": [
              "HBox(children=(IntProgress(value=0, max=2210), HTML(value='')))"
            ]
          },
          "metadata": {
            "tags": []
          }
        },
        {
          "output_type": "stream",
          "text": [
            "\n"
          ],
          "name": "stdout"
        }
      ]
    },
    {
      "cell_type": "code",
      "metadata": {
        "id": "d_rlnZ2ZmE7E",
        "colab_type": "code",
        "colab": {}
      },
      "source": [
        "default_gen_func = lambda: generate_random_embedding(200, 0.0, 0.38)\n",
        "orig_num = len(embedding_map)"
      ],
      "execution_count": 0,
      "outputs": []
    },
    {
      "cell_type": "code",
      "metadata": {
        "id": "aB1XR_immdg4",
        "colab_type": "code",
        "colab": {
          "base_uri": "https://localhost:8080/",
          "height": 35
        },
        "outputId": "b0eacc60-f4c2-4dfa-ea6e-181e1c08373d"
      },
      "source": [
        "inputs = []\n",
        "for example in train_treebank:\n",
        "    tree = example.tree\n",
        "    adj, inp = extract_adj_matrix_and_input(tree, embedding_map, default_gen_func)\n",
        "    inputs.append(GCNInput(adj, inp, example.label))\n",
        "\n",
        "print('Number missing GloVe embedding:', len(embedding_map) - orig_num)\n",
        "\n",
        "train_dataset = GCNDataset(inputs)"
      ],
      "execution_count": 8,
      "outputs": [
        {
          "output_type": "stream",
          "text": [
            "Number missing GloVe embedding: 1296\n"
          ],
          "name": "stdout"
        }
      ]
    },
    {
      "cell_type": "code",
      "metadata": {
        "id": "9wc6Ki7GmoUm",
        "colab_type": "code",
        "colab": {
          "base_uri": "https://localhost:8080/",
          "height": 35
        },
        "outputId": "908fc575-4da0-4728-904b-7d661b97747a"
      },
      "source": [
        "inputs = []\n",
        "for example in dev_treebank:\n",
        "    tree = example.tree\n",
        "    adj, inp = extract_adj_matrix_and_input(tree, embedding_map, default_gen_func)\n",
        "    inputs.append(GCNInput(adj, inp, example.label))\n",
        "\n",
        "print('Number missing GloVe embedding:', len(embedding_map) - orig_num)\n",
        "\n",
        "dev_dataset = GCNDataset(inputs)"
      ],
      "execution_count": 9,
      "outputs": [
        {
          "output_type": "stream",
          "text": [
            "Number missing GloVe embedding: 1476\n"
          ],
          "name": "stdout"
        }
      ]
    },
    {
      "cell_type": "code",
      "metadata": {
        "id": "7DRHMj_qmsbb",
        "colab_type": "code",
        "colab": {
          "base_uri": "https://localhost:8080/",
          "height": 35
        },
        "outputId": "80722c5d-0e48-4dc7-86e9-0fb15796eaf6"
      },
      "source": [
        "inputs = []\n",
        "for example in test_treebank:\n",
        "    tree = example.tree\n",
        "    adj, inp = extract_adj_matrix_and_input(tree, embedding_map, default_gen_func)\n",
        "    inputs.append(GCNInput(adj, inp, example.label))\n",
        "\n",
        "print('Number missing GloVe embedding:', len(embedding_map) - orig_num)\n",
        "\n",
        "test_dataset = GCNDataset(inputs)"
      ],
      "execution_count": 10,
      "outputs": [
        {
          "output_type": "stream",
          "text": [
            "Number missing GloVe embedding: 1784\n"
          ],
          "name": "stdout"
        }
      ]
    },
    {
      "cell_type": "code",
      "metadata": {
        "id": "ZP_2lpXdmy3w",
        "colab_type": "code",
        "colab": {}
      },
      "source": [
        "all_train = {'treebank': train_treebank, 'inputs': train_dataset}\n",
        "torch.save(all_train, 'data/stanford_sentiment_treebank/stanford_train.pt')"
      ],
      "execution_count": 0,
      "outputs": []
    },
    {
      "cell_type": "code",
      "metadata": {
        "id": "KpdRvbDhm-cI",
        "colab_type": "code",
        "colab": {}
      },
      "source": [
        "all_dev = {'treebank': dev_treebank, 'inputs': dev_dataset}\n",
        "torch.save(all_dev, 'data/stanford_sentiment_treebank/stanford_dev.pt')"
      ],
      "execution_count": 0,
      "outputs": []
    },
    {
      "cell_type": "code",
      "metadata": {
        "id": "HogucyFsnCgB",
        "colab_type": "code",
        "colab": {}
      },
      "source": [
        "all_test = {'treebank': test_treebank, 'inputs': test_dataset}\n",
        "torch.save(all_test, 'data/stanford_sentiment_treebank/stanford_test.pt')"
      ],
      "execution_count": 0,
      "outputs": []
    },
    {
      "cell_type": "code",
      "metadata": {
        "id": "c6ijmKxm72KF",
        "colab_type": "code",
        "colab": {}
      },
      "source": [
        "torch.save(embedding_map, 'data/stanford_sentiment_treebank/embeddings.pt')\n",
        "\n",
        "# m = torch.load('data/stanford_sentiment_treebank/embeddings.pt')"
      ],
      "execution_count": 0,
      "outputs": []
    },
    {
      "cell_type": "code",
      "metadata": {
        "id": "7UhMFeoGnZbP",
        "colab_type": "code",
        "colab": {
          "base_uri": "https://localhost:8080/",
          "height": 70
        },
        "outputId": "d18aa33c-ae20-4c29-9c53-24d9f65c6b30"
      },
      "source": [
        "print(train_dataset.labels().unique())\n",
        "print(dev_dataset.labels().unique())\n",
        "print(test_dataset.labels().unique())"
      ],
      "execution_count": 15,
      "outputs": [
        {
          "output_type": "stream",
          "text": [
            "tensor([0., 1., 2., 3., 4.])\n",
            "tensor([0., 1., 2., 3., 4.])\n",
            "tensor([0., 1., 2., 3., 4.])\n"
          ],
          "name": "stdout"
        }
      ]
    },
    {
      "cell_type": "markdown",
      "metadata": {
        "id": "iwjCOx7fSDXA",
        "colab_type": "text"
      },
      "source": [
        "# Training"
      ]
    },
    {
      "cell_type": "code",
      "metadata": {
        "id": "PcBq34leUtem",
        "colab_type": "code",
        "colab": {}
      },
      "source": [
        "from matplotlib import pyplot as plt\n",
        "\n",
        "def plot_loss(train_losses, val_losses):\n",
        "    plt.title(\"SST Loss per Epoch\")\n",
        "    plt.xlabel(\"Epoch\")\n",
        "    plt.ylabel(\"Louoss\")\n",
        "    plt.plot(train_losses, label='train')\n",
        "    plt.plot(val_losses, label='val')\n",
        "    plt.legend(loc='lower left')"
      ],
      "execution_count": 0,
      "outputs": []
    },
    {
      "cell_type": "code",
      "metadata": {
        "id": "Uxoo6tJQ4Tt6",
        "colab_type": "code",
        "colab": {}
      },
      "source": [
        "def load_dataset(data_path):\n",
        "    full = torch.load(data_path)\n",
        "    return full['treebank'], full['inputs']\n",
        "\n",
        "train_treebank, train_dataset = load_dataset('data/stanford_sentiment_treebank/stanford_train.pt')\n",
        "dev_treebank, dev_dataset = load_dataset('data/stanford_sentiment_treebank/stanford_dev.pt')\n",
        "test_treebank, test_dataset = load_dataset('data/stanford_sentiment_treebank/stanford_test.pt')"
      ],
      "execution_count": 0,
      "outputs": []
    },
    {
      "cell_type": "code",
      "metadata": {
        "id": "G2uG4kNVUmrC",
        "colab_type": "code",
        "colab": {}
      },
      "source": [
        "embed_size = 200\n",
        "hidden_size = 100  # hyperparameter\n",
        "dropout = 0.5  # hyperparameter\n",
        "epochs = 500\n",
        "lr = 0.0001\n",
        "batch_size = 50\n",
        "\n",
        "model = GCNTreebankModel(embed_size, hidden_size, 5, dropout=dropout)"
      ],
      "execution_count": 0,
      "outputs": []
    },
    {
      "cell_type": "code",
      "metadata": {
        "id": "RZYEiCo1UoYo",
        "colab_type": "code",
        "outputId": "201a55b8-3768-42f2-b0ec-e9926c7d9afd",
        "colab": {
          "base_uri": "https://localhost:8080/",
          "height": 369
        }
      },
      "source": [
        "%time train_losses, val_losses = train(model, train_dataset, dev_dataset, early_stop_threshold=20, batch_size=batch_size, epochs=epochs, init_lr=lr, plot_every=5, print_every=10, save_path='sst_train.pt')"
      ],
      "execution_count": 18,
      "outputs": [
        {
          "output_type": "stream",
          "text": [
            "Epoch 0\n",
            "Train mean cross-entropy: 2.584521056653466\n",
            "Validation mean cross-entropy: 1.7771600484848022\n",
            "Epoch 10\n",
            "Train mean cross-entropy: 1.371393483877182\n",
            "Validation mean cross-entropy: 1.4553889036178589\n",
            "Epoch 20\n",
            "Train mean cross-entropy: 1.3342969647225211\n",
            "Validation mean cross-entropy: 1.4239544868469238\n",
            "Epoch 30\n",
            "Train mean cross-entropy: 1.132750327096266\n",
            "Validation mean cross-entropy: 1.4252012968063354\n",
            "Epoch 40\n",
            "Train mean cross-entropy: 1.2053582501323785\n",
            "Validation mean cross-entropy: 1.4289028644561768\n",
            "Epoch 50\n",
            "Train mean cross-entropy: 1.1715453647077083\n",
            "Validation mean cross-entropy: 1.4332482814788818\n",
            "CPU times: user 4min 53s, sys: 15.1 s, total: 5min 8s\n",
            "Wall time: 5min 10s\n"
          ],
          "name": "stdout"
        }
      ]
    },
    {
      "cell_type": "code",
      "metadata": {
        "id": "qnkbRp_1UxN_",
        "colab_type": "code",
        "outputId": "a22826da-f7f4-43fb-c2e7-a96877875930",
        "colab": {
          "base_uri": "https://localhost:8080/",
          "height": 295
        }
      },
      "source": [
        "plot_loss(train_losses, val_losses)"
      ],
      "execution_count": 19,
      "outputs": [
        {
          "output_type": "display_data",
          "data": {
            "image/png": "[encoded data removed]",
            "text/plain": [
              "<Figure size 432x288 with 1 Axes>"
            ]
          },
          "metadata": {
            "tags": [],
            "needs_background": "light"
          }
        }
      ]
    },
    {
      "cell_type": "code",
      "metadata": {
        "id": "84t7ontsUzMz",
        "colab_type": "code",
        "outputId": "9e5425b9-40cb-43a5-fbf5-ba612a8948d3",
        "colab": {
          "base_uri": "https://localhost:8080/",
          "height": 35
        }
      },
      "source": [
        "test_loss = evaluate(model, test_dataset, test_dataset.labels(), accuracy)\n",
        "print(test_loss)"
      ],
      "execution_count": 20,
      "outputs": [
        {
          "output_type": "stream",
          "text": [
            "0.3733031674208145\n"
          ],
          "name": "stdout"
        }
      ]
    },
    {
      "cell_type": "code",
      "metadata": {
        "id": "AIEMlG0f0ac2",
        "colab_type": "code",
        "colab": {}
      },
      "source": [
        ""
      ],
      "execution_count": 0,
      "outputs": []
    },
    {
      "cell_type": "code",
      "metadata": {
        "id": "1_Nh0noq0al5",
        "colab_type": "code",
        "colab": {}
      },
      "source": [
        "embed_size = 200\n",
        "hidden_size = 50  # hyperparameter\n",
        "dropout = 0.5  # hyperparameter\n",
        "epochs = 500\n",
        "lr = 0.0001\n",
        "batch_size=50\n",
        "\n",
        "model = GCNTreebankModel(embed_size, hidden_size, 5, dropout=dropout)"
      ],
      "execution_count": 0,
      "outputs": []
    },
    {
      "cell_type": "code",
      "metadata": {
        "id": "Pt2A3RHG0e15",
        "colab_type": "code",
        "colab": {
          "base_uri": "https://localhost:8080/",
          "height": 369
        },
        "outputId": "5611bf4f-38a9-4db2-8d4d-1be69469c9d2"
      },
      "source": [
        "%time train_losses, val_losses = train(model, train_dataset, dev_dataset, early_stop_threshold=10, batch_size=batch_size, epochs=epochs, init_lr=lr, plot_every=5, print_every=10, save_path='sst_train_50.pt')"
      ],
      "execution_count": 22,
      "outputs": [
        {
          "output_type": "stream",
          "text": [
            "Epoch 0\n",
            "Train mean cross-entropy: 3.3519557700875926\n",
            "Validation mean cross-entropy: 1.9822099208831787\n",
            "Epoch 10\n",
            "Train mean cross-entropy: 1.5599214972818598\n",
            "Validation mean cross-entropy: 1.4832266569137573\n",
            "Epoch 20\n",
            "Train mean cross-entropy: 1.352285259501899\n",
            "Validation mean cross-entropy: 1.4314004182815552\n",
            "Epoch 30\n",
            "Train mean cross-entropy: 1.3779764724128387\n",
            "Validation mean cross-entropy: 1.4169005155563354\n",
            "Epoch 40\n",
            "Train mean cross-entropy: 1.2802811318898901\n",
            "Validation mean cross-entropy: 1.4153870344161987\n",
            "Epoch 50\n",
            "Train mean cross-entropy: 1.344598562226576\n",
            "Validation mean cross-entropy: 1.417385220527649\n",
            "CPU times: user 4min 44s, sys: 15.8 s, total: 4min 59s\n",
            "Wall time: 5min 2s\n"
          ],
          "name": "stdout"
        }
      ]
    },
    {
      "cell_type": "code",
      "metadata": {
        "id": "aaqGJTRI0jqN",
        "colab_type": "code",
        "colab": {
          "base_uri": "https://localhost:8080/",
          "height": 295
        },
        "outputId": "5bdb7a01-bda8-4ba7-d15c-72b8da9a7e9c"
      },
      "source": [
        "plot_loss(train_losses, val_losses)"
      ],
      "execution_count": 23,
      "outputs": [
        {
          "output_type": "display_data",
          "data": {
            "image/png": "[encoded data removed]",
            "text/plain": [
              "<Figure size 432x288 with 1 Axes>"
            ]
          },
          "metadata": {
            "tags": [],
            "needs_background": "light"
          }
        }
      ]
    },
    {
      "cell_type": "code",
      "metadata": {
        "id": "JcI53LrH0k0P",
        "colab_type": "code",
        "colab": {
          "base_uri": "https://localhost:8080/",
          "height": 35
        },
        "outputId": "1ab28252-bafd-4509-b2e4-fd8c9b86642d"
      },
      "source": [
        "test_loss = evaluate(model, test_dataset, test_dataset.labels(), accuracy)\n",
        "print(test_loss)"
      ],
      "execution_count": 24,
      "outputs": [
        {
          "output_type": "stream",
          "text": [
            "0.3932126696832579\n"
          ],
          "name": "stdout"
        }
      ]
    },
    {
      "cell_type": "code",
      "metadata": {
        "colab_type": "code",
        "id": "fgBiO8wdqkqx",
        "colab": {
          "base_uri": "https://localhost:8080/",
          "height": 1000
        },
        "outputId": "e95f4e48-b70b-40ca-925e-79f4995415aa"
      },
      "source": [
        "embed_size = 200\n",
        "hidden_size = 50  # hyperparameter\n",
        "dropout = 0.5  # hyperparameter\n",
        "epochs = 500\n",
        "lr = 0.0001\n",
        "batch_size = 20\n",
        "\n",
        "hidden_sizes = np.arange(20, 201, 10)\n",
        "train_losses_tune_hidden = {}\n",
        "val_losses_tune_hidden = {}\n",
        "test_losses_tune_hiddden = {}  #should say accuracy not loss oops\n",
        "\n",
        "for hidden_size in hidden_sizes:\n",
        "    print('Hidden size: ', hidden_size)\n",
        "    model = GCNTreebankModel(embed_size, hidden_size, 5, dropout=dropout)\n",
        "    %time train_losses, val_losses = train(model, train_dataset, dev_dataset, early_stop_threshold=10, batch_size=batch_size, epochs=epochs, init_lr=lr, plot_every=5, print_every=10, save_path='sst_train_tune_hidden_{}.pt'.format(hidden_size))\n",
        "    train_losses_tune_hidden[hidden_size] = train_losses\n",
        "    val_losses_tune_hidden[hidden_size] = val_losses\n",
        "    test_loss = evaluate(model, test_dataset, test_dataset.labels(), accuracy)\n",
        "    print('Test loss:', test_loss)\n",
        "    test_losses_tune_hiddden[hidden_size] = test_loss\n",
        "    print()"
      ],
      "execution_count": 25,
      "outputs": [
        {
          "output_type": "stream",
          "text": [
            "Hidden size:  20\n",
            "Epoch 0\n",
            "Train mean cross-entropy: 2.7853284167034214\n",
            "Validation mean cross-entropy: 1.9266678094863892\n",
            "Epoch 10\n",
            "Train mean cross-entropy: 1.4637205557814805\n",
            "Validation mean cross-entropy: 1.4770458936691284\n",
            "Epoch 20\n",
            "Train mean cross-entropy: 1.383004100456729\n",
            "Validation mean cross-entropy: 1.4301478862762451\n",
            "Epoch 30\n",
            "Train mean cross-entropy: 1.371755380541156\n",
            "Validation mean cross-entropy: 1.4183193445205688\n",
            "Epoch 40\n",
            "Train mean cross-entropy: 1.3432724756958614\n",
            "Validation mean cross-entropy: 1.4141267538070679\n",
            "Epoch 50\n",
            "Train mean cross-entropy: 1.3647704778775678\n",
            "Validation mean cross-entropy: 1.4104743003845215\n",
            "Epoch 60\n",
            "Train mean cross-entropy: 1.3488317168900084\n",
            "Validation mean cross-entropy: 1.4074233770370483\n",
            "CPU times: user 5min 35s, sys: 21.2 s, total: 5min 56s\n",
            "Wall time: 5min 57s\n",
            "Test loss: 0.38506787330316744\n",
            "Hidden size:  30\n",
            "Epoch 0\n",
            "Train mean cross-entropy: 2.157320824026433\n",
            "Validation mean cross-entropy: 1.7142874002456665\n",
            "Epoch 10\n",
            "Train mean cross-entropy: 1.408935941110171\n",
            "Validation mean cross-entropy: 1.451934814453125\n",
            "Epoch 20\n",
            "Train mean cross-entropy: 1.3970234972322295\n",
            "Validation mean cross-entropy: 1.420453667640686\n",
            "Epoch 30\n",
            "Train mean cross-entropy: 1.3278312476164285\n",
            "Validation mean cross-entropy: 1.4131582975387573\n",
            "Epoch 40\n",
            "Train mean cross-entropy: 1.2559750527841425\n",
            "Validation mean cross-entropy: 1.4123451709747314\n",
            "CPU times: user 3min 31s, sys: 12.8 s, total: 3min 44s\n",
            "Wall time: 3min 45s\n",
            "Test loss: 0.39683257918552034\n",
            "Hidden size:  40\n",
            "Epoch 0\n",
            "Train mean cross-entropy: 2.2647194844088245\n",
            "Validation mean cross-entropy: 1.772273063659668\n",
            "Epoch 10\n",
            "Train mean cross-entropy: 1.46403747029271\n",
            "Validation mean cross-entropy: 1.468598484992981\n",
            "Epoch 20\n",
            "Train mean cross-entropy: 1.2999828987573852\n",
            "Validation mean cross-entropy: 1.4301397800445557\n",
            "Epoch 30\n",
            "Train mean cross-entropy: 1.369386918406576\n",
            "Validation mean cross-entropy: 1.4285938739776611\n",
            "Epoch 40\n",
            "Train mean cross-entropy: 1.2896169432345124\n",
            "Validation mean cross-entropy: 1.4288493394851685\n",
            "CPU times: user 3min 55s, sys: 14.5 s, total: 4min 9s\n",
            "Wall time: 4min 10s\n",
            "Test loss: 0.38778280542986426\n",
            "Hidden size:  50\n",
            "Epoch 0\n",
            "Train mean cross-entropy: 2.147436362861348\n",
            "Validation mean cross-entropy: 1.7539541721343994\n",
            "Epoch 10\n",
            "Train mean cross-entropy: 1.3465870228493522\n",
            "Validation mean cross-entropy: 1.4330823421478271\n",
            "Epoch 20\n",
            "Train mean cross-entropy: 1.323421277594371\n",
            "Validation mean cross-entropy: 1.4104397296905518\n",
            "Epoch 30\n",
            "Train mean cross-entropy: 1.2664611328576432\n",
            "Validation mean cross-entropy: 1.4142653942108154\n",
            "Epoch 40\n",
            "Train mean cross-entropy: 1.269957673668303\n",
            "Validation mean cross-entropy: 1.4119508266448975\n",
            "CPU times: user 3min 46s, sys: 12.8 s, total: 3min 59s\n",
            "Wall time: 4min\n",
            "Test loss: 0.3891402714932127\n",
            "Hidden size:  60\n",
            "Epoch 0\n",
            "Train mean cross-entropy: 2.3351529424168187\n",
            "Validation mean cross-entropy: 1.7275910377502441\n",
            "Epoch 10\n",
            "Train mean cross-entropy: 1.373589354181178\n",
            "Validation mean cross-entropy: 1.4393171072006226\n",
            "Epoch 20\n",
            "Train mean cross-entropy: 1.2439441406091705\n",
            "Validation mean cross-entropy: 1.4305275678634644\n",
            "CPU times: user 2min 39s, sys: 8.86 s, total: 2min 48s\n",
            "Wall time: 2min 50s\n",
            "Test loss: 0.3923076923076923\n",
            "Hidden size:  70\n",
            "Epoch 0\n",
            "Train mean cross-entropy: 1.8723647632838971\n",
            "Validation mean cross-entropy: 1.6675375699996948\n",
            "Epoch 10\n",
            "Train mean cross-entropy: 1.3468668931087509\n",
            "Validation mean cross-entropy: 1.4321149587631226\n",
            "Epoch 20\n",
            "Train mean cross-entropy: 1.3253113672887553\n",
            "Validation mean cross-entropy: 1.42699134349823\n",
            "CPU times: user 2min 35s, sys: 8.41 s, total: 2min 44s\n",
            "Wall time: 2min 45s\n",
            "Test loss: 0.3764705882352941\n",
            "Hidden size:  80\n",
            "Epoch 0\n",
            "Train mean cross-entropy: 1.8033894343602643\n",
            "Validation mean cross-entropy: 1.6204395294189453\n",
            "Epoch 10\n",
            "Train mean cross-entropy: 1.3742155384542791\n",
            "Validation mean cross-entropy: 1.4227638244628906\n",
            "Epoch 20\n",
            "Train mean cross-entropy: 1.2444231630689018\n",
            "Validation mean cross-entropy: 1.4242374897003174\n",
            "CPU times: user 2min 14s, sys: 7.6 s, total: 2min 22s\n",
            "Wall time: 2min 24s\n",
            "Test loss: 0.38280542986425337\n",
            "Hidden size:  90\n",
            "Epoch 0\n",
            "Train mean cross-entropy: 1.8654848947256544\n",
            "Validation mean cross-entropy: 1.614534854888916\n",
            "Epoch 10\n",
            "Train mean cross-entropy: 1.3623001459087365\n",
            "Validation mean cross-entropy: 1.4216700792312622\n",
            "Epoch 20\n",
            "Train mean cross-entropy: 1.21091363720369\n",
            "Validation mean cross-entropy: 1.4159425497055054\n",
            "Epoch 30\n",
            "Train mean cross-entropy: 1.1922206861736904\n",
            "Validation mean cross-entropy: 1.422889232635498\n",
            "CPU times: user 3min 15s, sys: 10.5 s, total: 3min 25s\n",
            "Wall time: 3min 27s\n",
            "Test loss: 0.38823529411764707\n",
            "Hidden size:  100\n",
            "Epoch 0\n",
            "Train mean cross-entropy: 1.9572430195404649\n",
            "Validation mean cross-entropy: 1.6204463243484497\n",
            "Epoch 10\n",
            "Train mean cross-entropy: 1.3300283440940552\n",
            "Validation mean cross-entropy: 1.4225534200668335\n",
            "Epoch 20\n",
            "Train mean cross-entropy: 1.2587089238718885\n",
            "Validation mean cross-entropy: 1.4289766550064087\n",
            "CPU times: user 2min 8s, sys: 6.62 s, total: 2min 15s\n",
            "Wall time: 2min 15s\n",
            "Test loss: 0.3914027149321267\n",
            "Hidden size:  110\n",
            "Epoch 0\n",
            "Train mean cross-entropy: 1.981868701007662\n",
            "Validation mean cross-entropy: 1.6473345756530762\n",
            "Epoch 10\n",
            "Train mean cross-entropy: 1.3081886736933466\n",
            "Validation mean cross-entropy: 1.4122968912124634\n",
            "Epoch 20\n",
            "Train mean cross-entropy: 1.218841270886065\n",
            "Validation mean cross-entropy: 1.4050055742263794\n",
            "Epoch 30\n",
            "Train mean cross-entropy: 1.07988488338277\n",
            "Validation mean cross-entropy: 1.4078576564788818\n",
            "CPU times: user 3min 38s, sys: 11.1 s, total: 3min 50s\n",
            "Wall time: 3min 51s\n",
            "Test loss: 0.38778280542986426\n",
            "Hidden size:  120\n",
            "Epoch 0\n",
            "Train mean cross-entropy: 2.0149244591680984\n",
            "Validation mean cross-entropy: 1.596494197845459\n",
            "Epoch 10\n",
            "Train mean cross-entropy: 1.2872265278769601\n",
            "Validation mean cross-entropy: 1.4199745655059814\n",
            "Epoch 20\n",
            "Train mean cross-entropy: 1.1758991421965894\n",
            "Validation mean cross-entropy: 1.4192886352539062\n",
            "CPU times: user 2min 26s, sys: 7.63 s, total: 2min 34s\n",
            "Wall time: 2min 34s\n",
            "Test loss: 0.38461538461538464\n",
            "Hidden size:  130\n",
            "Epoch 0\n",
            "Train mean cross-entropy: 1.9240034427275703\n",
            "Validation mean cross-entropy: 1.5888586044311523\n",
            "Epoch 10\n",
            "Train mean cross-entropy: 1.2762182172239525\n",
            "Validation mean cross-entropy: 1.425893783569336\n",
            "Epoch 20\n",
            "Train mean cross-entropy: 1.1680070372250375\n",
            "Validation mean cross-entropy: 1.4291832447052002\n",
            "CPU times: user 2min 29s, sys: 7.65 s, total: 2min 37s\n",
            "Wall time: 2min 39s\n",
            "Test loss: 0.38552036199095024\n",
            "Hidden size:  140\n",
            "Epoch 0\n",
            "Train mean cross-entropy: 1.8539628286516638\n",
            "Validation mean cross-entropy: 1.5675511360168457\n",
            "Epoch 10\n",
            "Train mean cross-entropy: 1.2932751196800825\n",
            "Validation mean cross-entropy: 1.4401953220367432\n",
            "CPU times: user 1min 53s, sys: 5.77 s, total: 1min 59s\n",
            "Wall time: 1min 59s\n",
            "Test loss: 0.3773755656108597\n",
            "Hidden size:  150\n",
            "Epoch 0\n",
            "Train mean cross-entropy: 1.9035272107522856\n",
            "Validation mean cross-entropy: 1.557938575744629\n",
            "Epoch 10\n",
            "Train mean cross-entropy: 1.3477058471714864\n",
            "Validation mean cross-entropy: 1.42637300491333\n",
            "Epoch 20\n",
            "Train mean cross-entropy: 1.2072379026099587\n",
            "Validation mean cross-entropy: 1.4282108545303345\n",
            "CPU times: user 2min 21s, sys: 7.34 s, total: 2min 28s\n",
            "Wall time: 2min 30s\n",
            "Test loss: 0.38461538461538464\n",
            "Hidden size:  160\n",
            "Epoch 0\n",
            "Train mean cross-entropy: 1.850852547680187\n",
            "Validation mean cross-entropy: 1.5690935850143433\n",
            "Epoch 10\n",
            "Train mean cross-entropy: 1.2841505511844884\n",
            "Validation mean cross-entropy: 1.4261788129806519\n",
            "Epoch 20\n",
            "Train mean cross-entropy: 1.2067960141754472\n",
            "Validation mean cross-entropy: 1.4345537424087524\n",
            "CPU times: user 2min 11s, sys: 6.99 s, total: 2min 18s\n",
            "Wall time: 2min 19s\n",
            "Test loss: 0.3764705882352941\n",
            "Hidden size:  170\n",
            "Epoch 0\n",
            "Train mean cross-entropy: 1.907126835868007\n",
            "Validation mean cross-entropy: 1.5619046688079834\n",
            "Epoch 10\n",
            "Train mean cross-entropy: 1.2605955033307892\n",
            "Validation mean cross-entropy: 1.4375739097595215\n",
            "Epoch 20\n",
            "Train mean cross-entropy: 1.1607841381004878\n",
            "Validation mean cross-entropy: 1.4328272342681885\n",
            "CPU times: user 2min 25s, sys: 7.32 s, total: 2min 32s\n",
            "Wall time: 2min 33s\n",
            "Test loss: 0.38280542986425337\n",
            "Hidden size:  180\n",
            "Epoch 0\n",
            "Train mean cross-entropy: 2.082248190998054\n",
            "Validation mean cross-entropy: 1.6039565801620483\n",
            "Epoch 10\n",
            "Train mean cross-entropy: 1.238867071790913\n",
            "Validation mean cross-entropy: 1.4329339265823364\n",
            "Epoch 20\n",
            "Train mean cross-entropy: 1.234268686502945\n",
            "Validation mean cross-entropy: 1.4263492822647095\n",
            "CPU times: user 2min 46s, sys: 8.11 s, total: 2min 55s\n",
            "Wall time: 2min 56s\n",
            "Test loss: 0.3751131221719457\n",
            "Hidden size:  190\n",
            "Epoch 0\n",
            "Train mean cross-entropy: 1.9012823314504126\n",
            "Validation mean cross-entropy: 1.594240427017212\n",
            "Epoch 10\n",
            "Train mean cross-entropy: 1.2970133903032863\n",
            "Validation mean cross-entropy: 1.431296944618225\n",
            "Epoch 20\n",
            "Train mean cross-entropy: 1.1258792038199947\n",
            "Validation mean cross-entropy: 1.447123408317566\n",
            "CPU times: user 2min 36s, sys: 7.74 s, total: 2min 44s\n",
            "Wall time: 2min 46s\n",
            "Test loss: 0.3895927601809955\n",
            "Hidden size:  200\n",
            "Epoch 0\n",
            "Train mean cross-entropy: 1.9923867115476093\n",
            "Validation mean cross-entropy: 1.5445185899734497\n",
            "Epoch 10\n",
            "Train mean cross-entropy: 1.2284151335842297\n",
            "Validation mean cross-entropy: 1.4252194166183472\n",
            "Epoch 20\n",
            "Train mean cross-entropy: 1.058160953895479\n",
            "Validation mean cross-entropy: 1.4323692321777344\n",
            "CPU times: user 2min 34s, sys: 7.38 s, total: 2min 41s\n",
            "Wall time: 2min 42s\n",
            "Test loss: 0.3986425339366516\n"
          ],
          "name": "stdout"
        }
      ]
    },
    {
      "cell_type": "code",
      "metadata": {
        "id": "xfMRbT_2Vm7V",
        "colab_type": "code",
        "colab": {
          "base_uri": "https://localhost:8080/",
          "height": 265
        },
        "outputId": "be4d08a3-6198-4e85-f402-42fe7e1e98ea"
      },
      "source": [
        "plt.plot(hidden_sizes, list(test_losses_tune_hiddden.values()))\n",
        "plt.show()"
      ],
      "execution_count": 28,
      "outputs": [
        {
          "output_type": "display_data",
          "data": {
            "image/png": "[encoded data removed]",
            "text/plain": [
              "<Figure size 432x288 with 1 Axes>"
            ]
          },
          "metadata": {
            "tags": [],
            "needs_background": "light"
          }
        }
      ]
    },
    {
      "cell_type": "code",
      "metadata": {
        "id": "mN5pJ5kMWES9",
        "colab_type": "code",
        "colab": {
          "base_uri": "https://localhost:8080/",
          "height": 35
        },
        "outputId": "e88c5d2a-adde-4387-9772-6dea9d74d577"
      },
      "source": [
        "print(list(size for size, loss in test_losses_tune_hiddden.items() if loss == max(test_losses_tune_hiddden.values())))"
      ],
      "execution_count": 31,
      "outputs": [
        {
          "output_type": "stream",
          "text": [
            "[200]\n"
          ],
          "name": "stdout"
        }
      ]
    },
    {
      "cell_type": "code",
      "metadata": {
        "colab_type": "code",
        "outputId": "6ddb38e0-d1bb-4719-9a34-34bada01ad62",
        "id": "3lEQBlwsqkq7",
        "colab": {
          "base_uri": "https://localhost:8080/",
          "height": 295
        }
      },
      "source": [
        "plot_loss(train_losses_tune_hidden[200], val_losses_tune_hidden[200])"
      ],
      "execution_count": 29,
      "outputs": [
        {
          "output_type": "display_data",
          "data": {
            "image/png": "[encoded data removed]",
            "text/plain": [
              "<Figure size 432x288 with 1 Axes>"
            ]
          },
          "metadata": {
            "tags": [],
            "needs_background": "light"
          }
        }
      ]
    },
    {
      "cell_type": "code",
      "metadata": {
        "colab_type": "code",
        "outputId": "515c1d58-c30c-44b2-8d5a-7c7ebb07f122",
        "id": "XTv7CsHaqkq_",
        "colab": {
          "base_uri": "https://localhost:8080/",
          "height": 35
        }
      },
      "source": [
        "test_loss = evaluate(model, test_dataset, test_dataset.labels(), accuracy)\n",
        "print(test_loss)"
      ],
      "execution_count": 43,
      "outputs": [
        {
          "output_type": "stream",
          "text": [
            "0.3945701357466063\n"
          ],
          "name": "stdout"
        }
      ]
    },
    {
      "cell_type": "code",
      "metadata": {
        "id": "ypBtvShvioKD",
        "colab_type": "code",
        "colab": {
          "base_uri": "https://localhost:8080/",
          "height": 90
        },
        "outputId": "b2a15db8-c22e-42b4-972e-b54568cfe192"
      },
      "source": [
        "print(train_losses_tune_hidden)\n",
        "print(val_losses_tune_hidden)\n",
        "print(test_losses_tune_hiddden)"
      ],
      "execution_count": 33,
      "outputs": [
        {
          "output_type": "stream",
          "text": [
            "{20: [2.7853284167034214, 1.8755090436800024, 1.7216571624580534, 1.6361202259113974, 1.5998569654706492, 1.5787097517514397, 1.5280431891492714, 1.5101955496734423, 1.5438745957068594, 1.489485154107248, 1.4637205557814805, 1.483938338326626, 1.471709226905881, 1.4493892573221505, 1.4522766089830241, 1.4023407198994724, 1.4012941718101501, 1.4400736543696715, 1.3862364562250133, 1.3929846907946208, 1.383004100456729, 1.4388146962298722, 1.3744081911353931, 1.3971950719242074, 1.3638950972981418, 1.3656442397790993, 1.3584759714173489, 1.3583178668865274, 1.3723073457422246, 1.3431344441109854, 1.371755380541156, 1.3427507249197859, 1.3815719761669776, 1.2958117991476483, 1.3395886260675882, 1.3753355047741875, 1.3392882648968865, 1.292591640389845, 1.3873448215721642, 1.384877465578097, 1.3432724756958614, 1.3570190737551773, 1.3227552600222394, 1.334928070214649, 1.3696016845853882, 1.3458625577756615, 1.2752546543469194, 1.3489152911605544, 1.2911510317470765, 1.3019249942110072, 1.3647704778775678, 1.2869824111740817, 1.3075633624533685, 1.3178053722309004, 1.2895923582815174, 1.3001932909044784, 1.2961314268916218, 1.327171129630377, 1.3017735696229777, 1.2804811849527113, 1.3488317168900084, 1.2884698223488393, 1.2850819434403535, 1.3128642579955017, 1.379899073348531, 1.27506212215321, 1.284624971606413, 1.3173796322711457, 1.3051843107252685, 1.325074162081198], 30: [2.157320824026433, 1.677501039845603, 1.603962628358421, 1.565952404391291, 1.536081968411908, 1.4640986543209826, 1.4830095995156491, 1.5364714907678565, 1.4698348618712302, 1.4276650519016476, 1.408935941110171, 1.4462918614056965, 1.485725761925588, 1.4250393770373397, 1.439671183358311, 1.3954020468496326, 1.4142545728270288, 1.3932262453178612, 1.3810997754335403, 1.425969004229723, 1.3970234972322295, 1.37806029832405, 1.3532283990981986, 1.4211788963727148, 1.357877658117362, 1.364769763424469, 1.3755977704457991, 1.3872573667094634, 1.3272841492148697, 1.3297779220101844, 1.3278312476164285, 1.314371576179386, 1.3354309635363362, 1.328796957534426, 1.3378280774282347, 1.2647078633221167, 1.30900291145825, 1.3260959318077816, 1.2957708361347051, 1.2773920941129502, 1.2559750527841425, 1.3185838824552452, 1.2688662655808607], 40: [2.2647194844088245, 1.7251651792915699, 1.684002990814785, 1.577929501929942, 1.580050929194312, 1.5192364020146587, 1.4893824518145666, 1.4695135255887302, 1.4979600692102446, 1.4310096425529943, 1.46403747029271, 1.3852102211273039, 1.4261980316747827, 1.3926660162364013, 1.3855017391175242, 1.4047523525475898, 1.3604863940692338, 1.36889065139048, 1.3769599044699858, 1.2849480199520704, 1.2999828987573852, 1.3643609915251476, 1.3492235472944916, 1.32842112247084, 1.3176413239601485, 1.2961916552738786, 1.2582657219235736, 1.3473717511677352, 1.3407657809852158, 1.287063302371904, 1.369386918406576, 1.3597099991816268, 1.2459434857657419, 1.2691196957014204, 1.2609265170276025, 1.2426600292743788, 1.3088687225583007, 1.2618220098822681, 1.3020389725473782, 1.2329937077064146, 1.2896169432345124, 1.242013296683862, 1.2824586378345026, 1.1919974687550678, 1.2326564239774258, 1.2159890613935243, 1.2209910096849295, 1.2415352738189753], 50: [2.147436362861348, 1.7853936587898738, 1.6229616667054576, 1.623275527857087, 1.496111982809576, 1.521408322753616, 1.4851779641814757, 1.4596436993509043, 1.417382819538792, 1.4414886043208543, 1.3465870228493522, 1.3924098087243508, 1.3720943397325431, 1.32929346357108, 1.367411824148279, 1.3304054145232296, 1.369900715321442, 1.3067111685366066, 1.3816525575986232, 1.290324433372995, 1.323421277594371, 1.3015914617991837, 1.2643024735327208, 1.3077740605475612, 1.3373902582277737, 1.2625421501425655, 1.289821934809939, 1.2844158176515923, 1.3051973402639743, 1.2556064029505576, 1.2664611328576432, 1.259744695132594, 1.1606609218898916, 1.2640660488912596, 1.2607120718519078, 1.2237116899908427, 1.1928562105347595, 1.2909103204655423, 1.2163380663907395, 1.2198652836910735, 1.269957673668303, 1.216980081665563, 1.186789751750803, 1.2110429490486758], 60: [2.3351529424168187, 1.7976431299777444, 1.5699690737929501, 1.5657868497684353, 1.5377079640325395, 1.455431858465878, 1.4431661634729953, 1.396050363779068, 1.3781943590984411, 1.4042178601794277, 1.373589354181178, 1.3317859706052293, 1.4220589257305623, 1.3479083761817119, 1.3692300740184493, 1.2968582731324838, 1.3491040251503505, 1.3338708866745304, 1.321922099126167, 1.301655543457708, 1.2439441406091705, 1.3074902031893474, 1.2637604258221682, 1.2789699313093403, 1.2986533287258282, 1.264446360933697, 1.309167278804042, 1.283951927259983, 1.2651246442466066, 1.2708053133456991], 70: [1.8723647632838971, 1.7171087930855762, 1.6276881306735358, 1.566871742645946, 1.4599269521040994, 1.4808862954901587, 1.3721338926489515, 1.3772540067691155, 1.3372263932814363, 1.3673421920253186, 1.3468668931087509, 1.3290954796156782, 1.3384118402590517, 1.3284218941555648, 1.3181660001883742, 1.3126507463409136, 1.2616692309112962, 1.2616190262644855, 1.3512553242525953, 1.264210522113765, 1.3253113672887553, 1.2633483124159677, 1.2367545752775195, 1.2636787183190188, 1.240987364442657, 1.229814527783133, 1.2443999279709206, 1.2475705874398944, 1.2375571832270198], 80: [1.8033894343602643, 1.7255529243786945, 1.557026565947354, 1.5058131897582103, 1.4752028676958218, 1.3671134096904018, 1.353599110517904, 1.3665901625603087, 1.3380971077341037, 1.3449154143031923, 1.3742155384542791, 1.3032048078694445, 1.3136621034187232, 1.3072528643424532, 1.3074507793581738, 1.2812106411476605, 1.237656074922872, 1.2808822901566148, 1.2944958022243804, 1.2174851507716213, 1.2444231630689018, 1.2318232934573006, 1.1992609770946745, 1.2127747682473389, 1.2758765276826796], 90: [1.8654848947256544, 1.6842784329690474, 1.5330298833496676, 1.431215551718895, 1.429396498328908, 1.430802615241647, 1.383051194808941, 1.3742323169000534, 1.3172110837886428, 1.367691804255758, 1.3623001459087365, 1.357043655331855, 1.3003734417730808, 1.3369567233379887, 1.3005954362364787, 1.3303491721841434, 1.267193220311501, 1.2656969036165389, 1.295788602297144, 1.2262330345408141, 1.21091363720369, 1.1979038496730758, 1.2747171187742812, 1.2034348833965753, 1.227749585954852, 1.185894732941509, 1.2016449663395485, 1.2194909102586589, 1.2266819830067823, 1.172896293587372, 1.1922206861736904, 1.1370135856316854, 1.1543164594705266, 1.1466520196066807, 1.1885690566771763], 100: [1.9572430195404649, 1.7339124994339374, 1.5546730619438638, 1.5395419096587273, 1.4223783961486343, 1.4042614240557025, 1.440598687815722, 1.363221073108758, 1.3792600983827956, 1.3764953228276424, 1.3300283440940552, 1.3357111021213286, 1.3225524239154833, 1.2776204594683591, 1.3203497279862888, 1.3334203470821124, 1.285330990229055, 1.2810223511718999, 1.2332343995501343, 1.2224866725772672, 1.2587089238718885, 1.1911077986294687, 1.18163819853609], 110: [1.981868701007662, 1.6963175131788857, 1.6150524140590805, 1.533744322122958, 1.423441676357521, 1.3554339443771846, 1.3648966473354947, 1.3907839117933771, 1.402564722180925, 1.3462551073182103, 1.3081886736933466, 1.2824620488655931, 1.312294575453363, 1.3051615258116074, 1.3234230536112532, 1.3082350806640657, 1.2430388473968874, 1.220338301493217, 1.1982106032761672, 1.2051057315647462, 1.218841270886065, 1.1631622525669234, 1.2122327678725646, 1.2042364368184668, 1.2062366359389498, 1.253504360264791, 1.169730820071467, 1.1746107159439798, 1.1789473393949434, 1.1456852163203428, 1.07988488338277, 1.1925750549455159, 1.1336843996271666, 1.1605653732805676, 1.1707663952724123, 1.1576924987521189, 1.1134390821985778, 1.1005651743284293], 120: [2.0149244591680984, 1.7094781862733235, 1.5783343680150614, 1.3895135365723168, 1.4211562331896754, 1.4170256510411827, 1.4336282586465117, 1.3279754873670515, 1.3413729915434638, 1.3063644444007225, 1.2872265278769601, 1.2850930248965144, 1.313556015945151, 1.2565988726058945, 1.3127428714089986, 1.2426606515374479, 1.1915252340970608, 1.268170206630886, 1.232957836685471, 1.238427815553176, 1.1758991421965894, 1.222253397124573, 1.208172642566979, 1.1585090227198265, 1.1687446127032788, 1.1980192616704057], 130: [1.9240034427275703, 1.6641390637278697, 1.5244557499815765, 1.4950874809009966, 1.43550655153303, 1.387170944423949, 1.3414108131682845, 1.3196749616091508, 1.359747840322781, 1.328951999876622, 1.2762182172239525, 1.2615371834076679, 1.3055682933477104, 1.2982937525739715, 1.2581251923003576, 1.1780026989271406, 1.2248881440217099, 1.199529788633525, 1.2444355253487895, 1.1615576740938829, 1.1680070372250375, 1.111663953185221, 1.1312726505222868, 1.158918170581203, 1.2161411876229686], 140: [1.8539628286516638, 1.5954978343544297, 1.4925172084056941, 1.3883721469018164, 1.3893303202696372, 1.40847710612507, 1.3995169565535261, 1.2796188718017705, 1.308536772286864, 1.3216528660755178, 1.2932751196800825, 1.284474581290272, 1.282247655669476, 1.2651893919556285, 1.2430647077165387, 1.2368246159173846, 1.2500254637376347, 1.2100081271132066, 1.1211190614282247], 150: [1.9035272107522856, 1.6383814558002932, 1.513382494414718, 1.451535758041107, 1.4193067220530409, 1.3718268005940757, 1.3887205360156312, 1.3535192892635874, 1.3276950871742024, 1.3000704313451708, 1.3477058471714864, 1.280091481619194, 1.297367884190775, 1.2265478871780202, 1.1959442483300486, 1.21919591353216, 1.2120978767248591, 1.2041673217867381, 1.260776665550275, 1.2041204169641229, 1.2072379026099587, 1.1409656927600258, 1.1710027762158692], 160: [1.850852547680187, 1.6218961688408529, 1.5486235739859542, 1.3780834483423334, 1.3875828727695925, 1.3734455876732878, 1.3604877574382397, 1.32044365509158, 1.278046574190573, 1.2667179026791446, 1.2841505511844884, 1.2677465096918705, 1.21338875714768, 1.2583053953121188, 1.2595666527543086, 1.1840687309188955, 1.1623042938179518, 1.2129481028617126, 1.234208513408969, 1.1844331979559652, 1.2067960141754472, 1.0934808578176436], 170: [1.907126835868007, 1.6390010017805692, 1.4683407506877142, 1.4632192438411629, 1.3670116767322151, 1.3902556307142735, 1.394201540521213, 1.3471994534989848, 1.3405472618643308, 1.2761960127663556, 1.2605955033307892, 1.3188382047959177, 1.228431622355967, 1.204175593431786, 1.2182766274490178, 1.1753420607258829, 1.1837723393525397, 1.1429150010997853, 1.1553980491758788, 1.1485648365512455, 1.1607841381004878, 1.140638025907202, 1.1507594907564707], 180: [2.082248190998054, 1.604546721527392, 1.4462148490115407, 1.4673724840776843, 1.4121534822626471, 1.3942127059927032, 1.3269634358933855, 1.3306199204726297, 1.2995970988650511, 1.2366122857207298, 1.238867071790913, 1.2909108523270705, 1.2107551381934163, 1.1739166770130396, 1.1810652840559739, 1.1822087723386652, 1.1660723193642406, 1.1572101105013273, 1.1111134295231844, 1.1565057143734756, 1.234268686502945, 1.1138610068798083, 1.065462977217567, 1.0668347149747108, 1.1178651723620292, 1.109458135306809], 190: [1.9012823314504126, 1.6287086464080793, 1.456541382247447, 1.5187586806627291, 1.3693539757255369, 1.4286183873649503, 1.3695798824591436, 1.3231013952045585, 1.3046385496156836, 1.3092821918349424, 1.2970133903032863, 1.2113400344852472, 1.2267420431140994, 1.2170549358368854, 1.1638133544692948, 1.1882847521358129, 1.1712301063942407, 1.2000193786780096, 1.13452077466085, 1.1060915171698749, 1.1258792038199947, 1.0944980516314367, 1.1129026583131987, 1.0726661566645999], 200: [1.9923867115476093, 1.5686355408377055, 1.501374914928119, 1.4433081008197273, 1.326787068968774, 1.371662690781877, 1.3274393503312065, 1.3359864065183689, 1.205073511374098, 1.2975276156788826, 1.2284151335842297, 1.2426099666597135, 1.1726847502819548, 1.185615851026927, 1.1546340788729856, 1.2143509068223157, 1.2210201066013522, 1.1248289115652792, 1.1199124266657394, 1.150579643850182, 1.058160953895479, 1.0729421078395405, 1.0558524571481298, 1.0508485055186152]}\n",
            "{20: [1.9266678094863892, 1.748126745223999, 1.655561089515686, 1.6041982173919678, 1.5725058317184448, 1.5513654947280884, 1.5313185453414917, 1.5159201622009277, 1.4998252391815186, 1.4896374940872192, 1.4770458936691284, 1.4682215452194214, 1.4611680507659912, 1.4544994831085205, 1.4494253396987915, 1.4438390731811523, 1.4410301446914673, 1.4375156164169312, 1.4374362230300903, 1.432136058807373, 1.4301478862762451, 1.4280251264572144, 1.4274733066558838, 1.423945426940918, 1.4231407642364502, 1.4232356548309326, 1.4217692613601685, 1.4235485792160034, 1.4205950498580933, 1.4187688827514648, 1.4183193445205688, 1.4191781282424927, 1.4162061214447021, 1.4179450273513794, 1.4159446954727173, 1.4152801036834717, 1.414360761642456, 1.41460382938385, 1.4140363931655884, 1.4157971143722534, 1.4141267538070679, 1.4121460914611816, 1.4122759103775024, 1.4134037494659424, 1.4112871885299683, 1.4105263948440552, 1.4111171960830688, 1.4124493598937988, 1.4108506441116333, 1.4108620882034302, 1.4104743003845215, 1.4106839895248413, 1.409043312072754, 1.4094048738479614, 1.407938003540039, 1.4082938432693481, 1.408705472946167, 1.4076282978057861, 1.4091579914093018, 1.4072163105010986, 1.4074233770370483, 1.4077564477920532, 1.4083011150360107, 1.4097118377685547, 1.409993052482605, 1.4092919826507568, 1.4098589420318604, 1.4095025062561035, 1.4111186265945435, 1.4096930027008057], 30: [1.7142874002456665, 1.6087207794189453, 1.558343768119812, 1.5285918712615967, 1.5103223323822021, 1.4970415830612183, 1.4853990077972412, 1.4765187501907349, 1.466488003730774, 1.4605801105499268, 1.451934814453125, 1.4464442729949951, 1.4411094188690186, 1.4374922513961792, 1.4310451745986938, 1.4275580644607544, 1.4256954193115234, 1.424847960472107, 1.4227042198181152, 1.423415184020996, 1.420453667640686, 1.421531081199646, 1.417271614074707, 1.4160317182540894, 1.4181467294692993, 1.4160782098770142, 1.41514253616333, 1.4158484935760498, 1.4150941371917725, 1.4139015674591064, 1.4131582975387573, 1.4114497900009155, 1.4107420444488525, 1.4128623008728027, 1.4141483306884766, 1.4114271402359009, 1.4121249914169312, 1.4130889177322388, 1.4112732410430908, 1.4109433889389038, 1.4123451709747314, 1.4124938249588013, 1.4123133420944214], 40: [1.772273063659668, 1.6509381532669067, 1.5941301584243774, 1.5621187686920166, 1.541883945465088, 1.522506833076477, 1.5069289207458496, 1.493844747543335, 1.4835593700408936, 1.473289966583252, 1.468598484992981, 1.4595911502838135, 1.4529234170913696, 1.453747272491455, 1.4466338157653809, 1.4400864839553833, 1.4398905038833618, 1.4417378902435303, 1.4376097917556763, 1.4332200288772583, 1.4301397800445557, 1.4308912754058838, 1.432005524635315, 1.4277687072753906, 1.4270045757293701, 1.4302934408187866, 1.4260283708572388, 1.4284616708755493, 1.426111102104187, 1.4292047023773193, 1.4285938739776611, 1.4280810356140137, 1.4258947372436523, 1.4260118007659912, 1.4276479482650757, 1.4282516241073608, 1.4249507188796997, 1.424718976020813, 1.42830491065979, 1.4315414428710938, 1.4288493394851685, 1.4297682046890259, 1.4281742572784424, 1.4326379299163818, 1.4295786619186401, 1.4298378229141235, 1.4299741983413696, 1.4305118322372437], 50: [1.7539541721343994, 1.636947751045227, 1.5746604204177856, 1.5332914590835571, 1.5056672096252441, 1.4830999374389648, 1.469037413597107, 1.4592393636703491, 1.4451441764831543, 1.4373279809951782, 1.4330823421478271, 1.4280710220336914, 1.4241209030151367, 1.4196234941482544, 1.4202650785446167, 1.417790174484253, 1.4150738716125488, 1.4152092933654785, 1.4137909412384033, 1.4127941131591797, 1.4104397296905518, 1.4113543033599854, 1.4090114831924438, 1.4088870286941528, 1.4111497402191162, 1.4075171947479248, 1.4084501266479492, 1.4098495244979858, 1.408724308013916, 1.4078282117843628, 1.4142653942108154, 1.4102896451950073, 1.4081981182098389, 1.4065684080123901, 1.4075785875320435, 1.4097684621810913, 1.4098877906799316, 1.4093964099884033, 1.415941596031189, 1.4096077680587769, 1.4119508266448975, 1.4106104373931885, 1.4112986326217651, 1.4115540981292725], 60: [1.7275910377502441, 1.6132166385650635, 1.549628496170044, 1.5063725709915161, 1.4848191738128662, 1.4730406999588013, 1.4579136371612549, 1.4505680799484253, 1.4455479383468628, 1.4436858892440796, 1.4393171072006226, 1.4354099035263062, 1.4345591068267822, 1.430029273033142, 1.4308617115020752, 1.431029200553894, 1.4293755292892456, 1.4333791732788086, 1.4300957918167114, 1.4283604621887207, 1.4305275678634644, 1.4300175905227661, 1.42961585521698, 1.4310389757156372, 1.4333794116973877, 1.4352787733078003, 1.4346027374267578, 1.4398486614227295, 1.433415412902832, 1.4373232126235962], 70: [1.6675375699996948, 1.573333978652954, 1.5300354957580566, 1.5052152872085571, 1.477608561515808, 1.4620575904846191, 1.4570649862289429, 1.445898413658142, 1.4439632892608643, 1.4358835220336914, 1.4321149587631226, 1.427696943283081, 1.4273165464401245, 1.4260118007659912, 1.423592448234558, 1.4313888549804688, 1.4224059581756592, 1.4226598739624023, 1.4217263460159302, 1.4253684282302856, 1.42699134349823, 1.4240705966949463, 1.4225915670394897, 1.4219881296157837, 1.4287259578704834, 1.4303077459335327, 1.4302804470062256, 1.423845648765564, 1.4329601526260376], 80: [1.6204395294189453, 1.5398067235946655, 1.4886150360107422, 1.4635096788406372, 1.4490673542022705, 1.4396772384643555, 1.4362810850143433, 1.4310168027877808, 1.4298455715179443, 1.4286612272262573, 1.4227638244628906, 1.42070734500885, 1.422829270362854, 1.4282668828964233, 1.4201034307479858, 1.425919771194458, 1.427393913269043, 1.4212723970413208, 1.4293800592422485, 1.4227758646011353, 1.4242374897003174, 1.4289839267730713, 1.4254902601242065, 1.4244942665100098, 1.429490327835083], 90: [1.614534854888916, 1.520063877105713, 1.494584560394287, 1.4672448635101318, 1.453446865081787, 1.4436935186386108, 1.4329718351364136, 1.4304981231689453, 1.4341981410980225, 1.4187812805175781, 1.4216700792312622, 1.4163756370544434, 1.4170198440551758, 1.4201445579528809, 1.4183498620986938, 1.4150519371032715, 1.412972092628479, 1.4142588376998901, 1.4163047075271606, 1.416994571685791, 1.4159425497055054, 1.4183191061019897, 1.414602518081665, 1.4219229221343994, 1.411868691444397, 1.4152023792266846, 1.4183725118637085, 1.4158036708831787, 1.4191317558288574, 1.427872896194458, 1.422889232635498, 1.4211516380310059, 1.4242932796478271, 1.4232288599014282, 1.4263992309570312], 100: [1.6204463243484497, 1.5353343486785889, 1.4902441501617432, 1.4726594686508179, 1.4504308700561523, 1.447345495223999, 1.4314005374908447, 1.4272193908691406, 1.4241077899932861, 1.4251530170440674, 1.4225534200668335, 1.4230306148529053, 1.4178495407104492, 1.418426513671875, 1.4219379425048828, 1.4205567836761475, 1.4200361967086792, 1.426996111869812, 1.4226659536361694, 1.422803282737732, 1.4289766550064087, 1.423959732055664, 1.4207650423049927], 110: [1.6473345756530762, 1.5401415824890137, 1.4903812408447266, 1.4637417793273926, 1.4478552341461182, 1.4361567497253418, 1.4374984502792358, 1.4205242395401, 1.42473304271698, 1.4131829738616943, 1.4122968912124634, 1.4136667251586914, 1.4125902652740479, 1.4051904678344727, 1.4081519842147827, 1.4102468490600586, 1.4065890312194824, 1.4025999307632446, 1.408337116241455, 1.4022691249847412, 1.4050055742263794, 1.4017994403839111, 1.4093598127365112, 1.4057753086090088, 1.4166665077209473, 1.4100699424743652, 1.4179894924163818, 1.4016594886779785, 1.4090523719787598, 1.4062609672546387, 1.4078576564788818, 1.410192608833313, 1.4151804447174072, 1.4098875522613525, 1.4164745807647705, 1.4175591468811035, 1.4124504327774048, 1.4201624393463135], 120: [1.596494197845459, 1.5139397382736206, 1.4848668575286865, 1.4550299644470215, 1.4524608850479126, 1.4345664978027344, 1.428178071975708, 1.433273196220398, 1.426540493965149, 1.4213732481002808, 1.4199745655059814, 1.4217194318771362, 1.416738510131836, 1.4161202907562256, 1.4210716485977173, 1.4125807285308838, 1.4170198440551758, 1.4205938577651978, 1.4149808883666992, 1.4149634838104248, 1.4192886352539062, 1.4190706014633179, 1.4168490171432495, 1.4275821447372437, 1.4219865798950195, 1.4274585247039795], 130: [1.5888586044311523, 1.5170255899429321, 1.470484972000122, 1.4711217880249023, 1.4595454931259155, 1.4481827020645142, 1.4358621835708618, 1.4434105157852173, 1.4337409734725952, 1.426499843597412, 1.425893783569336, 1.430045247077942, 1.4356540441513062, 1.4287630319595337, 1.4250956773757935, 1.430737018585205, 1.4275596141815186, 1.4397292137145996, 1.429506778717041, 1.4292163848876953, 1.4291832447052002, 1.4408241510391235, 1.4360026121139526, 1.439605712890625, 1.4348702430725098], 140: [1.5675511360168457, 1.5002800226211548, 1.4702081680297852, 1.4549121856689453, 1.4488245248794556, 1.446471095085144, 1.4399844408035278, 1.4414232969284058, 1.4385526180267334, 1.4398068189620972, 1.4401953220367432, 1.44815194606781, 1.4466575384140015, 1.4392951726913452, 1.4446253776550293, 1.4438873529434204, 1.4466506242752075, 1.4459171295166016, 1.4514955282211304], 150: [1.557938575744629, 1.4874069690704346, 1.471924066543579, 1.4426454305648804, 1.4387632608413696, 1.4265373945236206, 1.4269142150878906, 1.426574468612671, 1.423498272895813, 1.421958327293396, 1.42637300491333, 1.421400547027588, 1.4197232723236084, 1.4306209087371826, 1.4295305013656616, 1.4273039102554321, 1.4268392324447632, 1.43022882938385, 1.425107717514038, 1.4262504577636719, 1.4282108545303345, 1.426403284072876, 1.4299300909042358], 160: [1.5690935850143433, 1.5074527263641357, 1.4836138486862183, 1.4583176374435425, 1.4553247690200806, 1.4392811059951782, 1.44500732421875, 1.4306515455245972, 1.4290658235549927, 1.4468954801559448, 1.4261788129806519, 1.419970989227295, 1.4226746559143066, 1.429167628288269, 1.4239909648895264, 1.4286247491836548, 1.431868076324463, 1.4295949935913086, 1.4290693998336792, 1.4235475063323975, 1.4345537424087524, 1.4265356063842773], 170: [1.5619046688079834, 1.4986698627471924, 1.4727492332458496, 1.4537376165390015, 1.4506492614746094, 1.4514392614364624, 1.4342191219329834, 1.4363560676574707, 1.4276701211929321, 1.4321767091751099, 1.4375739097595215, 1.440712332725525, 1.4236974716186523, 1.4295215606689453, 1.4283593893051147, 1.4329947233200073, 1.4266674518585205, 1.4412541389465332, 1.4376691579818726, 1.440714955329895, 1.4328272342681885, 1.4372692108154297, 1.4414604902267456], 180: [1.6039565801620483, 1.5032871961593628, 1.4801621437072754, 1.46274733543396, 1.443688154220581, 1.4522523880004883, 1.4327266216278076, 1.43193519115448, 1.4272643327713013, 1.4284868240356445, 1.4329339265823364, 1.4421892166137695, 1.4295004606246948, 1.425194501876831, 1.4266515970230103, 1.4195693731307983, 1.4267151355743408, 1.4275916814804077, 1.4344478845596313, 1.431369423866272, 1.4263492822647095, 1.4275147914886475, 1.4299472570419312, 1.4292060136795044, 1.4368141889572144, 1.43574857711792], 190: [1.594240427017212, 1.536947250366211, 1.4850494861602783, 1.4605482816696167, 1.45682954788208, 1.4429727792739868, 1.4400485754013062, 1.4436216354370117, 1.4607586860656738, 1.4330155849456787, 1.431296944618225, 1.4428925514221191, 1.4383314847946167, 1.4295119047164917, 1.440740942955017, 1.4397845268249512, 1.4458650350570679, 1.4432945251464844, 1.437341570854187, 1.445586919784546, 1.447123408317566, 1.445885181427002, 1.4413081407546997, 1.4471092224121094], 200: [1.5445185899734497, 1.4825284481048584, 1.4561240673065186, 1.4450851678848267, 1.4367005825042725, 1.4342190027236938, 1.4376132488250732, 1.4316481351852417, 1.4265223741531372, 1.4400360584259033, 1.4252194166183472, 1.4363514184951782, 1.4263031482696533, 1.4216848611831665, 1.4239305257797241, 1.4228571653366089, 1.427741527557373, 1.4285650253295898, 1.4316654205322266, 1.4280353784561157, 1.4323692321777344, 1.436083436012268, 1.4477258920669556, 1.444417953491211]}\n",
            "{20: 0.38506787330316744, 30: 0.39683257918552034, 40: 0.38778280542986426, 50: 0.3891402714932127, 60: 0.3923076923076923, 70: 0.3764705882352941, 80: 0.38280542986425337, 90: 0.38823529411764707, 100: 0.3914027149321267, 110: 0.38778280542986426, 120: 0.38461538461538464, 130: 0.38552036199095024, 140: 0.3773755656108597, 150: 0.38461538461538464, 160: 0.3764705882352941, 170: 0.38280542986425337, 180: 0.3751131221719457, 190: 0.3895927601809955, 200: 0.3986425339366516}\n"
          ],
          "name": "stdout"
        }
      ]
    },
    {
      "cell_type": "code",
      "metadata": {
        "id": "A7h_TYumhbno",
        "colab_type": "code",
        "colab": {
          "base_uri": "https://localhost:8080/",
          "height": 1000
        },
        "outputId": "13b95fda-6b26-46f7-e9eb-68c2b47fa00a"
      },
      "source": [
        "embed_size = 200\n",
        "dropout = 0.5  # hyperparameter\n",
        "epochs = 500\n",
        "lr = 0.0001\n",
        "batch_size = 20\n",
        "\n",
        "hidden_sizes = [30, 50, 200]\n",
        "init_lrs = np.arange(0.00005, 0.00051, 0.00005)\n",
        "train_losses_tune_hidden_lr = {}\n",
        "val_losses_tune_hidden_lr = {}\n",
        "test_acc_tune_hiddden_lr = {}  #should say accuracy not loss oops\n",
        "\n",
        "for hidden_size in hidden_sizes:\n",
        "  for lr in init_lrs:\n",
        "    print('Hidden size: %s and Init LR: %s' % (hidden_size, lr))\n",
        "    model = GCNTreebankModel(embed_size, hidden_size, 5, dropout=dropout)\n",
        "    %time train_losses, val_losses = train(model, train_dataset, dev_dataset, early_stop_threshold=10, batch_size=batch_size, epochs=epochs, init_lr=lr, plot_every=5, print_every=10, save_path='sst_train_tune_hidden_{}_lr_{}.pt'.format(hidden_size, lr))\n",
        "    train_losses_tune_hidden_lr[(hidden_size, lr)] = train_losses\n",
        "    val_losses_tune_hidden_lr[(hidden_size, lr)] = val_losses\n",
        "    test_acc = evaluate(model, test_dataset, test_dataset.labels(), accuracy)\n",
        "    print('Test accuracy:', test_acc)\n",
        "    test_acc_tune_hiddden_lr[(hidden_size, lr)] = test_acc\n",
        "    print()"
      ],
      "execution_count": 35,
      "outputs": [
        {
          "output_type": "stream",
          "text": [
            "Hidden size: 30 and Init LR: 5e-05\n",
            "Epoch 0\n",
            "Train mean cross-entropy: 2.0728748809432815\n",
            "Validation mean cross-entropy: 1.8460938930511475\n",
            "Epoch 10\n",
            "Train mean cross-entropy: 1.5030415665000607\n",
            "Validation mean cross-entropy: 1.517662763595581\n",
            "Epoch 20\n",
            "Train mean cross-entropy: 1.3942466221871923\n",
            "Validation mean cross-entropy: 1.4624624252319336\n",
            "Epoch 30\n",
            "Train mean cross-entropy: 1.3930812506157844\n",
            "Validation mean cross-entropy: 1.4443161487579346\n",
            "Epoch 40\n",
            "Train mean cross-entropy: 1.3578698249834762\n",
            "Validation mean cross-entropy: 1.4343782663345337\n",
            "Epoch 50\n",
            "Train mean cross-entropy: 1.3568967161329346\n",
            "Validation mean cross-entropy: 1.4302105903625488\n",
            "Epoch 60\n",
            "Train mean cross-entropy: 1.2815913685730524\n",
            "Validation mean cross-entropy: 1.4290518760681152\n",
            "Epoch 70\n",
            "Train mean cross-entropy: 1.3232863636674312\n",
            "Validation mean cross-entropy: 1.4284660816192627\n",
            "CPU times: user 6min 35s, sys: 23.3 s, total: 6min 58s\n",
            "Wall time: 7min\n",
            "Test accuracy: 0.40135746606334843\n",
            "\n",
            "Hidden size: 30 and Init LR: 0.0001\n",
            "Epoch 0\n",
            "Train mean cross-entropy: 2.0900067697989098\n",
            "Validation mean cross-entropy: 1.7599669694900513\n",
            "Epoch 10\n",
            "Train mean cross-entropy: 1.4883463002340018\n",
            "Validation mean cross-entropy: 1.4600657224655151\n",
            "Epoch 20\n",
            "Train mean cross-entropy: 1.3594839119764626\n",
            "Validation mean cross-entropy: 1.4333631992340088\n",
            "Epoch 30\n",
            "Train mean cross-entropy: 1.333938243000635\n",
            "Validation mean cross-entropy: 1.4295176267623901\n",
            "CPU times: user 3min 15s, sys: 11.7 s, total: 3min 27s\n",
            "Wall time: 3min 27s\n",
            "Test accuracy: 0.3773755656108597\n",
            "\n",
            "Hidden size: 30 and Init LR: 0.00015000000000000001\n",
            "Epoch 0\n",
            "Train mean cross-entropy: 2.179722226376425\n",
            "Validation mean cross-entropy: 1.7333463430404663\n",
            "Epoch 10\n",
            "Train mean cross-entropy: 1.4252302031396982\n",
            "Validation mean cross-entropy: 1.4131172895431519\n",
            "Epoch 20\n",
            "Train mean cross-entropy: 1.329540943827227\n",
            "Validation mean cross-entropy: 1.3913946151733398\n",
            "Epoch 30\n",
            "Train mean cross-entropy: 1.3266977073506951\n",
            "Validation mean cross-entropy: 1.389880657196045\n",
            "Epoch 40\n",
            "Train mean cross-entropy: 1.3106629697636503\n",
            "Validation mean cross-entropy: 1.3929924964904785\n",
            "CPU times: user 3min 57s, sys: 14.2 s, total: 4min 11s\n",
            "Wall time: 4min 13s\n",
            "Test accuracy: 0.40588235294117647\n",
            "\n",
            "Hidden size: 30 and Init LR: 0.0002\n",
            "Epoch 0\n",
            "Train mean cross-entropy: 1.7972851525425073\n",
            "Validation mean cross-entropy: 1.5909109115600586\n",
            "Epoch 10\n",
            "Train mean cross-entropy: 1.316452649188614\n",
            "Validation mean cross-entropy: 1.4020406007766724\n",
            "Epoch 20\n",
            "Train mean cross-entropy: 1.3307426985902864\n",
            "Validation mean cross-entropy: 1.4001187086105347\n",
            "CPU times: user 2min 14s, sys: 7.89 s, total: 2min 21s\n",
            "Wall time: 2min 22s\n",
            "Test accuracy: 0.3936651583710407\n",
            "\n",
            "Hidden size: 30 and Init LR: 0.00025\n",
            "Epoch 0\n",
            "Train mean cross-entropy: 1.925006528343543\n",
            "Validation mean cross-entropy: 1.6595593690872192\n",
            "Epoch 10\n",
            "Train mean cross-entropy: 1.3695343913078588\n",
            "Validation mean cross-entropy: 1.4370774030685425\n",
            "Epoch 20\n",
            "Train mean cross-entropy: 1.2570541403172861\n",
            "Validation mean cross-entropy: 1.439119815826416\n",
            "CPU times: user 1min 47s, sys: 6.27 s, total: 1min 53s\n",
            "Wall time: 1min 54s\n",
            "Test accuracy: 0.3760180995475113\n",
            "\n",
            "Hidden size: 30 and Init LR: 0.00030000000000000003\n",
            "Epoch 0\n",
            "Train mean cross-entropy: 1.9220132198210902\n",
            "Validation mean cross-entropy: 1.6049784421920776\n",
            "Epoch 10\n",
            "Train mean cross-entropy: 1.2935560008541482\n",
            "Validation mean cross-entropy: 1.4189107418060303\n",
            "Epoch 20\n",
            "Train mean cross-entropy: 1.2835460798138756\n",
            "Validation mean cross-entropy: 1.4367880821228027\n",
            "CPU times: user 1min 42s, sys: 6.14 s, total: 1min 48s\n",
            "Wall time: 1min 49s\n",
            "Test accuracy: 0.3832579185520362\n",
            "\n",
            "Hidden size: 30 and Init LR: 0.00035000000000000005\n",
            "Epoch 0\n",
            "Train mean cross-entropy: 1.8915133846518026\n",
            "Validation mean cross-entropy: 1.619573950767517\n",
            "Epoch 10\n",
            "Train mean cross-entropy: 1.298196554812112\n",
            "Validation mean cross-entropy: 1.4285832643508911\n",
            "Epoch 20\n",
            "Train mean cross-entropy: 1.2502248291999312\n",
            "Validation mean cross-entropy: 1.413038730621338\n",
            "CPU times: user 2min 23s, sys: 8.56 s, total: 2min 32s\n",
            "Wall time: 2min 32s\n",
            "Test accuracy: 0.40407239819004526\n",
            "\n",
            "Hidden size: 30 and Init LR: 0.0004\n",
            "Epoch 0\n",
            "Train mean cross-entropy: 1.7647928733736347\n",
            "Validation mean cross-entropy: 1.5459548234939575\n",
            "Epoch 10\n",
            "Train mean cross-entropy: 1.3957460597331965\n",
            "Validation mean cross-entropy: 1.4121708869934082\n",
            "Epoch 20\n",
            "Train mean cross-entropy: 1.247074549350303\n",
            "Validation mean cross-entropy: 1.4341168403625488\n",
            "CPU times: user 1min 52s, sys: 6.81 s, total: 1min 58s\n",
            "Wall time: 1min 58s\n",
            "Test accuracy: 0.4004524886877828\n",
            "\n",
            "Hidden size: 30 and Init LR: 0.00045000000000000004\n",
            "Epoch 0\n",
            "Train mean cross-entropy: 1.8294098182500664\n",
            "Validation mean cross-entropy: 1.5723512172698975\n",
            "Epoch 10\n",
            "Train mean cross-entropy: 1.27932798797461\n",
            "Validation mean cross-entropy: 1.4156090021133423\n",
            "CPU times: user 1min 39s, sys: 6.03 s, total: 1min 45s\n",
            "Wall time: 1min 47s\n",
            "Test accuracy: 0.39728506787330314\n",
            "\n",
            "Hidden size: 30 and Init LR: 0.0005\n",
            "Epoch 0\n",
            "Train mean cross-entropy: 1.7256147037903653\n",
            "Validation mean cross-entropy: 1.5602489709854126\n",
            "Epoch 10\n",
            "Train mean cross-entropy: 1.2206131643037677\n",
            "Validation mean cross-entropy: 1.4274914264678955\n",
            "CPU times: user 1min 37s, sys: 5.89 s, total: 1min 43s\n",
            "Wall time: 1min 43s\n",
            "Test accuracy: 0.3904977375565611\n",
            "\n",
            "Hidden size: 50 and Init LR: 5e-05\n",
            "Epoch 0\n",
            "Train mean cross-entropy: 1.900494235844746\n",
            "Validation mean cross-entropy: 1.6985126733779907\n",
            "Epoch 10\n",
            "Train mean cross-entropy: 1.4504411224738216\n",
            "Validation mean cross-entropy: 1.4858123064041138\n",
            "Epoch 20\n",
            "Train mean cross-entropy: 1.4212238008998317\n",
            "Validation mean cross-entropy: 1.4474728107452393\n",
            "Epoch 30\n",
            "Train mean cross-entropy: 1.3875790393673564\n",
            "Validation mean cross-entropy: 1.4314067363739014\n",
            "Epoch 40\n",
            "Train mean cross-entropy: 1.2799625170822813\n",
            "Validation mean cross-entropy: 1.42889404296875\n",
            "Epoch 50\n",
            "Train mean cross-entropy: 1.2557027812096218\n",
            "Validation mean cross-entropy: 1.4290246963500977\n",
            "Epoch 60\n",
            "Train mean cross-entropy: 1.2277778911576618\n",
            "Validation mean cross-entropy: 1.4307140111923218\n",
            "CPU times: user 5min 31s, sys: 18.3 s, total: 5min 49s\n",
            "Wall time: 5min 51s\n",
            "Test accuracy: 0.38416289592760183\n",
            "\n",
            "Hidden size: 50 and Init LR: 0.0001\n",
            "Epoch 0\n",
            "Train mean cross-entropy: 2.1279434083112507\n",
            "Validation mean cross-entropy: 1.7092714309692383\n",
            "Epoch 10\n",
            "Train mean cross-entropy: 1.3990660046142214\n",
            "Validation mean cross-entropy: 1.4484400749206543\n",
            "Epoch 20\n",
            "Train mean cross-entropy: 1.2967422647310085\n",
            "Validation mean cross-entropy: 1.4281805753707886\n",
            "Epoch 30\n",
            "Train mean cross-entropy: 1.2491486518964416\n",
            "Validation mean cross-entropy: 1.4202549457550049\n",
            "Epoch 40\n",
            "Train mean cross-entropy: 1.24982743415397\n",
            "Validation mean cross-entropy: 1.4266676902770996\n",
            "CPU times: user 3min 42s, sys: 12.3 s, total: 3min 55s\n",
            "Wall time: 3min 56s\n",
            "Test accuracy: 0.3927601809954751\n",
            "\n",
            "Hidden size: 50 and Init LR: 0.00015000000000000001\n",
            "Epoch 0\n",
            "Train mean cross-entropy: 2.1705077352652227\n",
            "Validation mean cross-entropy: 1.647956371307373\n",
            "Epoch 10\n",
            "Train mean cross-entropy: 1.3487965941464035\n",
            "Validation mean cross-entropy: 1.4216727018356323\n",
            "Epoch 20\n",
            "Train mean cross-entropy: 1.2484538832317331\n",
            "Validation mean cross-entropy: 1.4154093265533447\n",
            "CPU times: user 2min 8s, sys: 7.1 s, total: 2min 15s\n",
            "Wall time: 2min 16s\n",
            "Test accuracy: 0.3742081447963801\n",
            "\n",
            "Hidden size: 50 and Init LR: 0.0002\n",
            "Epoch 0\n",
            "Train mean cross-entropy: 1.9957751557841652\n",
            "Validation mean cross-entropy: 1.5875184535980225\n",
            "Epoch 10\n",
            "Train mean cross-entropy: 1.3297611541557508\n",
            "Validation mean cross-entropy: 1.4144209623336792\n",
            "Epoch 20\n",
            "Train mean cross-entropy: 1.2384188745947298\n",
            "Validation mean cross-entropy: 1.4164526462554932\n",
            "CPU times: user 2min 5s, sys: 7 s, total: 2min 12s\n",
            "Wall time: 2min 13s\n",
            "Test accuracy: 0.3904977375565611\n",
            "\n",
            "Hidden size: 50 and Init LR: 0.00025\n",
            "Epoch 0\n",
            "Train mean cross-entropy: 1.8306574586089657\n",
            "Validation mean cross-entropy: 1.5905706882476807\n",
            "Epoch 10\n",
            "Train mean cross-entropy: 1.302539625194194\n",
            "Validation mean cross-entropy: 1.4195321798324585\n",
            "CPU times: user 1min 42s, sys: 5.61 s, total: 1min 48s\n",
            "Wall time: 1min 48s\n",
            "Test accuracy: 0.38280542986425337\n",
            "\n",
            "Hidden size: 50 and Init LR: 0.00030000000000000003\n",
            "Epoch 0\n",
            "Train mean cross-entropy: 2.194861137061718\n",
            "Validation mean cross-entropy: 1.5953179597854614\n",
            "Epoch 10\n",
            "Train mean cross-entropy: 1.250435566804448\n",
            "Validation mean cross-entropy: 1.4158728122711182\n",
            "Epoch 20\n",
            "Train mean cross-entropy: 1.200967906291577\n",
            "Validation mean cross-entropy: 1.4315840005874634\n",
            "CPU times: user 1min 48s, sys: 6.02 s, total: 1min 54s\n",
            "Wall time: 1min 55s\n",
            "Test accuracy: 0.3895927601809955\n",
            "\n",
            "Hidden size: 50 and Init LR: 0.00035000000000000005\n",
            "Epoch 0\n",
            "Train mean cross-entropy: 1.8061411647034473\n",
            "Validation mean cross-entropy: 1.5474796295166016\n",
            "Epoch 10\n",
            "Train mean cross-entropy: 1.288359958233543\n",
            "Validation mean cross-entropy: 1.4159761667251587\n",
            "CPU times: user 1min 39s, sys: 5.54 s, total: 1min 44s\n",
            "Wall time: 1min 45s\n",
            "Test accuracy: 0.39592760180995473\n",
            "\n",
            "Hidden size: 50 and Init LR: 0.0004\n",
            "Epoch 0\n",
            "Train mean cross-entropy: 1.8389392702183762\n",
            "Validation mean cross-entropy: 1.5636720657348633\n",
            "Epoch 10\n",
            "Train mean cross-entropy: 1.2123654670228166\n",
            "Validation mean cross-entropy: 1.4128342866897583\n",
            "CPU times: user 1min 32s, sys: 5.05 s, total: 1min 37s\n",
            "Wall time: 1min 37s\n",
            "Test accuracy: 0.38552036199095024\n",
            "\n",
            "Hidden size: 50 and Init LR: 0.00045000000000000004\n",
            "Epoch 0\n",
            "Train mean cross-entropy: 1.7266850482750973\n",
            "Validation mean cross-entropy: 1.5017575025558472\n",
            "Epoch 10\n",
            "Train mean cross-entropy: 1.2326612942557633\n",
            "Validation mean cross-entropy: 1.4158718585968018\n",
            "CPU times: user 1min 22s, sys: 4.57 s, total: 1min 27s\n",
            "Wall time: 1min 27s\n",
            "Test accuracy: 0.38461538461538464\n",
            "\n",
            "Hidden size: 50 and Init LR: 0.0005\n",
            "Epoch 0\n",
            "Train mean cross-entropy: 1.7380275867303585\n",
            "Validation mean cross-entropy: 1.4995112419128418\n",
            "Epoch 10\n",
            "Train mean cross-entropy: 1.2214784768761182\n",
            "Validation mean cross-entropy: 1.4205665588378906\n",
            "CPU times: user 1min 24s, sys: 4.67 s, total: 1min 28s\n",
            "Wall time: 1min 29s\n",
            "Test accuracy: 0.38190045248868776\n",
            "\n",
            "Hidden size: 200 and Init LR: 5e-05\n",
            "Epoch 0\n",
            "Train mean cross-entropy: 2.1547244874263223\n",
            "Validation mean cross-entropy: 1.6581367254257202\n",
            "Epoch 10\n",
            "Train mean cross-entropy: 1.3260674785988393\n",
            "Validation mean cross-entropy: 1.4254233837127686\n",
            "Epoch 20\n",
            "Train mean cross-entropy: 1.1928017782418174\n",
            "Validation mean cross-entropy: 1.4201165437698364\n",
            "CPU times: user 3min 4s, sys: 9.03 s, total: 3min 13s\n",
            "Wall time: 3min 14s\n",
            "Test accuracy: 0.38733031674208146\n",
            "\n",
            "Hidden size: 200 and Init LR: 0.0001\n",
            "Epoch 0\n",
            "Train mean cross-entropy: 1.965799693279928\n",
            "Validation mean cross-entropy: 1.5569514036178589\n",
            "Epoch 10\n",
            "Train mean cross-entropy: 1.2369493618956495\n",
            "Validation mean cross-entropy: 1.4218353033065796\n",
            "Epoch 20\n",
            "Train mean cross-entropy: 1.1268841310118518\n",
            "Validation mean cross-entropy: 1.4357503652572632\n",
            "CPU times: user 2min 14s, sys: 6.73 s, total: 2min 21s\n",
            "Wall time: 2min 22s\n",
            "Test accuracy: 0.36199095022624433\n",
            "\n",
            "Hidden size: 200 and Init LR: 0.00015000000000000001\n",
            "Epoch 0\n",
            "Train mean cross-entropy: 1.925936137982568\n",
            "Validation mean cross-entropy: 1.6093202829360962\n",
            "Epoch 10\n",
            "Train mean cross-entropy: 1.2052384093927275\n",
            "Validation mean cross-entropy: 1.4425715208053589\n",
            "CPU times: user 2min, sys: 5.89 s, total: 2min 6s\n",
            "Wall time: 2min 7s\n",
            "Test accuracy: 0.3742081447963801\n",
            "\n",
            "Hidden size: 200 and Init LR: 0.0002\n",
            "Epoch 0\n",
            "Train mean cross-entropy: 1.7300281550831202\n",
            "Validation mean cross-entropy: 1.4987982511520386\n",
            "Epoch 10\n",
            "Train mean cross-entropy: 1.1404308314136375\n",
            "Validation mean cross-entropy: 1.43149995803833\n",
            "CPU times: user 1min 48s, sys: 5.26 s, total: 1min 53s\n",
            "Wall time: 1min 54s\n",
            "Test accuracy: 0.3895927601809955\n",
            "\n",
            "Hidden size: 200 and Init LR: 0.00025\n",
            "Epoch 0\n",
            "Train mean cross-entropy: 1.768374509306786\n",
            "Validation mean cross-entropy: 1.572453498840332\n",
            "Epoch 10\n",
            "Train mean cross-entropy: 1.1082773558638415\n",
            "Validation mean cross-entropy: 1.4906922578811646\n",
            "CPU times: user 1min 29s, sys: 4.46 s, total: 1min 34s\n",
            "Wall time: 1min 35s\n",
            "Test accuracy: 0.38642533936651585\n",
            "\n",
            "Hidden size: 200 and Init LR: 0.00030000000000000003\n",
            "Epoch 0\n",
            "Train mean cross-entropy: 1.7798701534549373\n",
            "Validation mean cross-entropy: 1.4771326780319214\n",
            "Epoch 10\n",
            "Train mean cross-entropy: 1.0348661356633944\n",
            "Validation mean cross-entropy: 1.4531798362731934\n",
            "CPU times: user 1min 28s, sys: 4.36 s, total: 1min 33s\n",
            "Wall time: 1min 33s\n",
            "Test accuracy: 0.3895927601809955\n",
            "\n",
            "Hidden size: 200 and Init LR: 0.00035000000000000005\n",
            "Epoch 0\n",
            "Train mean cross-entropy: 1.7154394240844864\n",
            "Validation mean cross-entropy: 1.4624911546707153\n",
            "Epoch 10\n",
            "Train mean cross-entropy: 1.055487901402585\n",
            "Validation mean cross-entropy: 1.480800986289978\n",
            "CPU times: user 1min 35s, sys: 4.71 s, total: 1min 40s\n",
            "Wall time: 1min 41s\n",
            "Test accuracy: 0.3764705882352941\n",
            "\n",
            "Hidden size: 200 and Init LR: 0.0004\n",
            "Epoch 0\n",
            "Train mean cross-entropy: 1.753757565829737\n",
            "Validation mean cross-entropy: 1.4760748147964478\n",
            "Epoch 10\n",
            "Train mean cross-entropy: 0.9830602298335847\n",
            "Validation mean cross-entropy: 1.5082366466522217\n",
            "CPU times: user 1min 30s, sys: 4.42 s, total: 1min 34s\n",
            "Wall time: 1min 36s\n",
            "Test accuracy: 0.3746606334841629\n",
            "\n",
            "Hidden size: 200 and Init LR: 0.00045000000000000004\n",
            "Epoch 0\n",
            "Train mean cross-entropy: 1.704712918931204\n",
            "Validation mean cross-entropy: 1.4671217203140259\n",
            "Epoch 10\n",
            "Train mean cross-entropy: 1.017033967330716\n",
            "Validation mean cross-entropy: 1.4767005443572998\n",
            "CPU times: user 1min 35s, sys: 4.81 s, total: 1min 40s\n",
            "Wall time: 1min 40s\n",
            "Test accuracy: 0.3778280542986425\n",
            "\n",
            "Hidden size: 200 and Init LR: 0.0005\n",
            "Epoch 0\n",
            "Train mean cross-entropy: 1.6943367184150693\n",
            "Validation mean cross-entropy: 1.449367880821228\n",
            "Epoch 10\n",
            "Train mean cross-entropy: 0.9765196874633048\n",
            "Validation mean cross-entropy: 1.4896392822265625\n",
            "CPU times: user 1min 29s, sys: 4.38 s, total: 1min 34s\n",
            "Wall time: 1min 34s\n",
            "Test accuracy: 0.38823529411764707\n",
            "\n"
          ],
          "name": "stdout"
        }
      ]
    },
    {
      "cell_type": "code",
      "metadata": {
        "id": "XL5vnBuNEJQI",
        "colab_type": "code",
        "colab": {
          "base_uri": "https://localhost:8080/",
          "height": 35
        },
        "outputId": "ae1b3803-8d45-429d-f74c-d85d461d3b14"
      },
      "source": [
        "print(list((params, loss) for params, loss in test_acc_tune_hiddden_lr.items() if loss == max(test_acc_tune_hiddden_lr.values())))"
      ],
      "execution_count": 39,
      "outputs": [
        {
          "output_type": "stream",
          "text": [
            "[((30, 0.00015000000000000001), 0.40588235294117647)]\n"
          ],
          "name": "stdout"
        }
      ]
    }
  ]
}